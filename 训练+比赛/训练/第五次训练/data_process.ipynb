{
 "cells": [
  {
   "cell_type": "code",
   "execution_count": 800,
   "metadata": {},
   "outputs": [],
   "source": [
    "%matplotlib inline\n",
    "import numpy as np\n",
    "import pandas as pd\n",
    "import seaborn as sns\n",
    "import matplotlib.pyplot as plt\n",
    "import squarify\n",
    "plt.rcParams['font.sans-serif']=['SimHei'] #用来正常显示中文标签\n",
    "plt.rcParams['axes.unicode_minus']=False #用来正常显示负号"
   ]
  },
  {
   "cell_type": "code",
   "execution_count": 334,
   "metadata": {},
   "outputs": [],
   "source": [
    "def remove_L(x):\n",
    "    for i in range(len(x)):\n",
    "        x.values[i] = str(x.values[i])\n",
    "        x.values[i] = x.values[i].split('L')[0]\n",
    "    return x\n",
    "def data_preprocess1(month):\n",
    "    \"\"\"\n",
    "    handle data from month 1 to month 5\n",
    "    \"\"\"\n",
    "    table2cols = ['pH', '溶解氧', '高锰酸盐指数', '生化需氧量', '氨氮', '石油类', '挥发酚', '汞', '铅', '化学需氧量',\n",
    "       '总磷', '铜', '锌', '氟化物', '硒', '砷', '镉', '六价铬', '氰化物', '阴离子表面活性剂', '硫化物']\n",
    "    data = pd.read_excel(\"第12题附件/\"+str(month)+\".xlsx\", names=['a','b','c','d','e','f','g','h'])\n",
    "    data.drop([0, 1, 2, 3, 18, 25, 26, 28, 29, 30, 31, 32, 33], axis=0, inplace=True)\n",
    "    data.drop(['a','c'], axis=1, inplace=True)\n",
    "    data = data.reset_index().drop('index', axis=1)\n",
    "    colnames = data['b'].values\n",
    "    colnames1 = []\n",
    "    for col in colnames:\n",
    "        if '（' in col:\n",
    "            colnames1.append(col.split('（')[0]+'1')\n",
    "        elif '(' in col:\n",
    "            colnames1.append(col.split('(')[0]+'1')\n",
    "        else:\n",
    "            colnames1.append(col+'1')\n",
    "    data = data.drop('b', axis=1)\n",
    "    temp = pd.DataFrame(data.T.values, columns=colnames1)\n",
    "    temp = temp.apply(lambda x:remove_L(x))\n",
    "    for col in table2cols:\n",
    "        temp[col] = temp[col+'1']\n",
    "    temp.drop(colnames1, axis=1, inplace=True)\n",
    "    for col in temp.columns:\n",
    "        temp[col] = temp[col].astype(np.float64)\n",
    "    temp.drop('pH', axis=1, inplace=True)\n",
    "    return temp"
   ]
  },
  {
   "cell_type": "code",
   "execution_count": 335,
   "metadata": {},
   "outputs": [],
   "source": [
    "def data_preprocess2(month):\n",
    "    \"\"\"\n",
    "    handle data from month 6 to month 8\n",
    "    \"\"\"\n",
    "    data = pd.read_excel(\"第12题附件/\"+str(month)+\".xlsx\", names=[str(i) for i in range(39)])\n",
    "    data = data.drop([str(i) for i in range(15, 39)], axis=1)\n",
    "    data1 = data.iloc[0:7]\n",
    "    data2 = data.iloc[9:16]\n",
    "    colnames1 = list(data.iloc[0])\n",
    "    colnames2 = list(data.iloc[9])\n",
    "    data1 = data1.drop(['0','1','2','3','4','6'], axis=1)\n",
    "    data1 = data1.drop([0,1], axis=0)\n",
    "    data2 = data2.drop([9, 10], axis=0)\n",
    "    data2 = data2.drop(['1', '13', '14'], axis=1)\n",
    "    data1 = data1.reset_index().drop('index', axis=1)\n",
    "    data2 = data2.reset_index().drop('index', axis=1)\n",
    "    data = pd.concat([data1, data2], axis=1)\n",
    "    colnames = [colnames1[5]]+colnames1[7:]+[colnames2[0]]+colnames2[2:13]\n",
    "    colnames1 = [col.split(' ')[0] for col in colnames]\n",
    "    data.columns = colnames1\n",
    "    data = data.apply(lambda x:remove_L(x))\n",
    "    for col in data.columns:\n",
    "        data[col] = data[col].astype(np.float64)\n",
    "    data.drop('pH', axis=1, inplace=True)\n",
    "    return data"
   ]
  },
  {
   "cell_type": "code",
   "execution_count": 379,
   "metadata": {},
   "outputs": [],
   "source": [
    "def data_preprocess3():\n",
    "    \"\"\"\n",
    "    handle GB\n",
    "    \"\"\"\n",
    "    data = pd.read_excel(\"国标.xlsx\", names=['ord','feature','Ⅰ类','Ⅱ类','Ⅲ类','Ⅳ类','Ⅴ类'])\n",
    "    data.drop('ord', axis=1, inplace=True)\n",
    "    data.drop([0, 8, 23], axis=0, inplace=True)\n",
    "    data = data.reset_index().drop('index', axis=1)\n",
    "    data['Ⅰ类'][1] = 7.5\n",
    "    data.drop([0], axis=0, inplace=True)\n",
    "    data = data.reset_index().drop('index', axis=1)\n",
    "    for col in data.columns[1:]:\n",
    "        data[col] = data[col].astype(np.float64)\n",
    "    return data"
   ]
  },
  {
   "cell_type": "code",
   "execution_count": 484,
   "metadata": {},
   "outputs": [
    {
     "name": "stderr",
     "output_type": "stream",
     "text": [
      "c:\\users\\glaucous\\anaconda3\\envs\\gluon\\lib\\site-packages\\ipykernel_launcher.py:9: SettingWithCopyWarning: \n",
      "A value is trying to be set on a copy of a slice from a DataFrame\n",
      "\n",
      "See the caveats in the documentation: https://pandas.pydata.org/pandas-docs/stable/user_guide/indexing.html#returning-a-view-versus-a-copy\n",
      "  if __name__ == '__main__':\n"
     ]
    },
    {
     "data": {
      "text/html": [
       "<div>\n",
       "<style scoped>\n",
       "    .dataframe tbody tr th:only-of-type {\n",
       "        vertical-align: middle;\n",
       "    }\n",
       "\n",
       "    .dataframe tbody tr th {\n",
       "        vertical-align: top;\n",
       "    }\n",
       "\n",
       "    .dataframe thead th {\n",
       "        text-align: right;\n",
       "    }\n",
       "</style>\n",
       "<table border=\"1\" class=\"dataframe\">\n",
       "  <thead>\n",
       "    <tr style=\"text-align: right;\">\n",
       "      <th></th>\n",
       "      <th>feature</th>\n",
       "      <th>Ⅰ类</th>\n",
       "      <th>Ⅱ类</th>\n",
       "      <th>Ⅲ类</th>\n",
       "      <th>Ⅳ类</th>\n",
       "      <th>Ⅴ类</th>\n",
       "    </tr>\n",
       "  </thead>\n",
       "  <tbody>\n",
       "    <tr>\n",
       "      <th>0</th>\n",
       "      <td>溶解氧</td>\n",
       "      <td>7.50000</td>\n",
       "      <td>6.00000</td>\n",
       "      <td>5.0000</td>\n",
       "      <td>3.000</td>\n",
       "      <td>2.000</td>\n",
       "    </tr>\n",
       "    <tr>\n",
       "      <th>1</th>\n",
       "      <td>高锰酸盐指数</td>\n",
       "      <td>2.00000</td>\n",
       "      <td>4.00000</td>\n",
       "      <td>6.0000</td>\n",
       "      <td>10.000</td>\n",
       "      <td>15.000</td>\n",
       "    </tr>\n",
       "    <tr>\n",
       "      <th>2</th>\n",
       "      <td>化学需氧量</td>\n",
       "      <td>15.00000</td>\n",
       "      <td>15.00000</td>\n",
       "      <td>20.0000</td>\n",
       "      <td>30.000</td>\n",
       "      <td>40.000</td>\n",
       "    </tr>\n",
       "    <tr>\n",
       "      <th>3</th>\n",
       "      <td>生化需氧量</td>\n",
       "      <td>3.00000</td>\n",
       "      <td>3.00000</td>\n",
       "      <td>34.0000</td>\n",
       "      <td>6.000</td>\n",
       "      <td>10.000</td>\n",
       "    </tr>\n",
       "    <tr>\n",
       "      <th>4</th>\n",
       "      <td>氨氮</td>\n",
       "      <td>0.15000</td>\n",
       "      <td>0.50000</td>\n",
       "      <td>1.0000</td>\n",
       "      <td>1.500</td>\n",
       "      <td>2.000</td>\n",
       "    </tr>\n",
       "    <tr>\n",
       "      <th>5</th>\n",
       "      <td>总磷</td>\n",
       "      <td>0.02000</td>\n",
       "      <td>0.10000</td>\n",
       "      <td>0.2000</td>\n",
       "      <td>0.300</td>\n",
       "      <td>0.400</td>\n",
       "    </tr>\n",
       "    <tr>\n",
       "      <th>6</th>\n",
       "      <td>铜</td>\n",
       "      <td>0.10000</td>\n",
       "      <td>1.00000</td>\n",
       "      <td>1.0000</td>\n",
       "      <td>1.000</td>\n",
       "      <td>1.000</td>\n",
       "    </tr>\n",
       "    <tr>\n",
       "      <th>7</th>\n",
       "      <td>锌</td>\n",
       "      <td>0.05000</td>\n",
       "      <td>1.00000</td>\n",
       "      <td>1.0000</td>\n",
       "      <td>2.000</td>\n",
       "      <td>2.000</td>\n",
       "    </tr>\n",
       "    <tr>\n",
       "      <th>8</th>\n",
       "      <td>氟化物</td>\n",
       "      <td>1.00000</td>\n",
       "      <td>1.00000</td>\n",
       "      <td>1.0000</td>\n",
       "      <td>1.500</td>\n",
       "      <td>1.500</td>\n",
       "    </tr>\n",
       "    <tr>\n",
       "      <th>9</th>\n",
       "      <td>硒</td>\n",
       "      <td>0.01000</td>\n",
       "      <td>0.01000</td>\n",
       "      <td>0.0100</td>\n",
       "      <td>0.020</td>\n",
       "      <td>0.020</td>\n",
       "    </tr>\n",
       "    <tr>\n",
       "      <th>10</th>\n",
       "      <td>砷</td>\n",
       "      <td>0.05000</td>\n",
       "      <td>0.05000</td>\n",
       "      <td>0.0500</td>\n",
       "      <td>0.100</td>\n",
       "      <td>0.100</td>\n",
       "    </tr>\n",
       "    <tr>\n",
       "      <th>11</th>\n",
       "      <td>汞</td>\n",
       "      <td>0.00005</td>\n",
       "      <td>0.00005</td>\n",
       "      <td>0.0001</td>\n",
       "      <td>0.001</td>\n",
       "      <td>0.001</td>\n",
       "    </tr>\n",
       "    <tr>\n",
       "      <th>12</th>\n",
       "      <td>镉</td>\n",
       "      <td>0.00100</td>\n",
       "      <td>0.00500</td>\n",
       "      <td>0.0050</td>\n",
       "      <td>0.005</td>\n",
       "      <td>0.010</td>\n",
       "    </tr>\n",
       "    <tr>\n",
       "      <th>13</th>\n",
       "      <td>六价铬</td>\n",
       "      <td>0.01000</td>\n",
       "      <td>0.05000</td>\n",
       "      <td>0.0500</td>\n",
       "      <td>0.050</td>\n",
       "      <td>0.100</td>\n",
       "    </tr>\n",
       "    <tr>\n",
       "      <th>14</th>\n",
       "      <td>铅</td>\n",
       "      <td>0.01000</td>\n",
       "      <td>0.01000</td>\n",
       "      <td>0.0500</td>\n",
       "      <td>0.050</td>\n",
       "      <td>0.100</td>\n",
       "    </tr>\n",
       "    <tr>\n",
       "      <th>15</th>\n",
       "      <td>氰化物</td>\n",
       "      <td>0.00500</td>\n",
       "      <td>0.05000</td>\n",
       "      <td>0.2000</td>\n",
       "      <td>0.200</td>\n",
       "      <td>0.200</td>\n",
       "    </tr>\n",
       "    <tr>\n",
       "      <th>16</th>\n",
       "      <td>挥发酚</td>\n",
       "      <td>0.00200</td>\n",
       "      <td>0.00200</td>\n",
       "      <td>0.0050</td>\n",
       "      <td>0.010</td>\n",
       "      <td>0.100</td>\n",
       "    </tr>\n",
       "    <tr>\n",
       "      <th>17</th>\n",
       "      <td>石油类</td>\n",
       "      <td>0.05000</td>\n",
       "      <td>0.05000</td>\n",
       "      <td>0.0500</td>\n",
       "      <td>0.500</td>\n",
       "      <td>1.000</td>\n",
       "    </tr>\n",
       "    <tr>\n",
       "      <th>18</th>\n",
       "      <td>阴离子表面活性剂</td>\n",
       "      <td>0.20000</td>\n",
       "      <td>0.20000</td>\n",
       "      <td>0.2000</td>\n",
       "      <td>0.300</td>\n",
       "      <td>0.300</td>\n",
       "    </tr>\n",
       "    <tr>\n",
       "      <th>19</th>\n",
       "      <td>硫化物</td>\n",
       "      <td>0.05000</td>\n",
       "      <td>0.10000</td>\n",
       "      <td>0.2000</td>\n",
       "      <td>0.500</td>\n",
       "      <td>1.000</td>\n",
       "    </tr>\n",
       "  </tbody>\n",
       "</table>\n",
       "</div>"
      ],
      "text/plain": [
       "     feature        Ⅰ类        Ⅱ类       Ⅲ类      Ⅳ类      Ⅴ类\n",
       "0        溶解氧   7.50000   6.00000   5.0000   3.000   2.000\n",
       "1     高锰酸盐指数   2.00000   4.00000   6.0000  10.000  15.000\n",
       "2      化学需氧量  15.00000  15.00000  20.0000  30.000  40.000\n",
       "3      生化需氧量   3.00000   3.00000  34.0000   6.000  10.000\n",
       "4         氨氮   0.15000   0.50000   1.0000   1.500   2.000\n",
       "5         总磷   0.02000   0.10000   0.2000   0.300   0.400\n",
       "6          铜   0.10000   1.00000   1.0000   1.000   1.000\n",
       "7          锌   0.05000   1.00000   1.0000   2.000   2.000\n",
       "8        氟化物   1.00000   1.00000   1.0000   1.500   1.500\n",
       "9          硒   0.01000   0.01000   0.0100   0.020   0.020\n",
       "10         砷   0.05000   0.05000   0.0500   0.100   0.100\n",
       "11         汞   0.00005   0.00005   0.0001   0.001   0.001\n",
       "12         镉   0.00100   0.00500   0.0050   0.005   0.010\n",
       "13       六价铬   0.01000   0.05000   0.0500   0.050   0.100\n",
       "14         铅   0.01000   0.01000   0.0500   0.050   0.100\n",
       "15       氰化物   0.00500   0.05000   0.2000   0.200   0.200\n",
       "16       挥发酚   0.00200   0.00200   0.0050   0.010   0.100\n",
       "17       石油类   0.05000   0.05000   0.0500   0.500   1.000\n",
       "18  阴离子表面活性剂   0.20000   0.20000   0.2000   0.300   0.300\n",
       "19       硫化物   0.05000   0.10000   0.2000   0.500   1.000"
      ]
     },
     "execution_count": 484,
     "metadata": {},
     "output_type": "execute_result"
    }
   ],
   "source": [
    "gbdata = data_preprocess3()\n",
    "gbdata"
   ]
  },
  {
   "cell_type": "code",
   "execution_count": 366,
   "metadata": {},
   "outputs": [],
   "source": [
    "def merge_df():\n",
    "    df_list = []\n",
    "    df = data_preprocess1(1)\n",
    "    for i in range(2,9):\n",
    "        if i < 6:\n",
    "            df = pd.concat([df, data_preprocess1(i)])\n",
    "        else:\n",
    "            df = pd.concat([df, data_preprocess2(i)])\n",
    "    df = df[df['溶解氧'] != -1]\n",
    "    df = df.reset_index().drop('index', axis=1)\n",
    "    return df"
   ]
  },
  {
   "cell_type": "code",
   "execution_count": 367,
   "metadata": {},
   "outputs": [],
   "source": [
    "total_df = merge_df()"
   ]
  },
  {
   "cell_type": "code",
   "execution_count": 485,
   "metadata": {},
   "outputs": [],
   "source": [
    "def compute_gbstd(df, gbdata):\n",
    "    roma=['Ⅰ类','Ⅱ类','Ⅲ类','Ⅳ类','Ⅴ类']\n",
    "    ms = np.zeros((1, len(df.index)))\n",
    "\n",
    "    for idx, col in enumerate(df.index):\n",
    "        if col not in ['溶解氧']:\n",
    "            if df[col] < np.float64(gbdata[gbdata['feature'] == col][roma[0]]):\n",
    "                ms[0, idx] = 1\n",
    "            elif df[col] > np.float64(gbdata[gbdata['feature'] == col][roma[-1]]):\n",
    "                ms[0, idx] = 5\n",
    "            else:\n",
    "                for i in range(5):\n",
    "                    if df[col] < np.float64(gbdata[gbdata['feature'] == col][roma[i]]):\n",
    "                        ms[0, idx] = i+1\n",
    "                        break\n",
    "        else:\n",
    "            if df[col] > np.float64(gbdata[gbdata['feature'] == col][roma[0]]):\n",
    "                ms[0, idx] = 1\n",
    "            elif df[col] < np.float64(gbdata[gbdata['feature'] == col][roma[-1]]):\n",
    "                ms[0, idx] = 5\n",
    "            else:\n",
    "                for i in range(5):\n",
    "                    if df[col] > np.float64(gbdata[gbdata['feature'] == col][roma[i]]):\n",
    "                        ms[0, idx] = i+1\n",
    "                        break\n",
    "    return max(max(ms))"
   ]
  },
  {
   "cell_type": "code",
   "execution_count": 486,
   "metadata": {},
   "outputs": [],
   "source": [
    "membership1 = [compute_gbstd(total_df.iloc[i], gbdata) for i in range(len(total_df))]"
   ]
  },
  {
   "cell_type": "code",
   "execution_count": 494,
   "metadata": {},
   "outputs": [],
   "source": [
    "result = pd.DataFrame({'membership':membership1,'rank':membership})"
   ]
  },
  {
   "cell_type": "code",
   "execution_count": 496,
   "metadata": {},
   "outputs": [],
   "source": [
    "result.to_excel(\"problem1result.xlsx\", index=False)"
   ]
  },
  {
   "cell_type": "code",
   "execution_count": 470,
   "metadata": {},
   "outputs": [],
   "source": [
    "def compute_membership(df, gbdata):\n",
    "    roma=['Ⅰ类','Ⅱ类','Ⅲ类','Ⅳ类','Ⅴ类']\n",
    "    ms = np.zeros((len(df.index), 5))\n",
    "    ms1 = np.zeros((1, len(df.index)))\n",
    "    ms2 = np.zeros((1, len(df.index)))\n",
    "    for idx, col in enumerate(df.index):\n",
    "        ms1[0, idx] = sum(sum(gbdata[gbdata['feature'] == col][roma[:-4]].values))/len(df.index)\n",
    "    for idx, col in enumerate(df.index):\n",
    "        if col not in ['溶解氧']:\n",
    "            if df[col] < np.float64(gbdata[gbdata['feature'] == col][roma[0]]):\n",
    "                ms[idx, 0] = 1\n",
    "            elif df[col] > np.float64(gbdata[gbdata['feature'] == col][roma[-1]]):\n",
    "                ms[idx, -1] = 1\n",
    "            else:\n",
    "                for i in range(5):\n",
    "                    if df[col] < np.float64(gbdata[gbdata['feature'] == col][roma[i]]):\n",
    "                        ms[idx, i-1] = (df[col] - gbdata[gbdata['feature'] == col][roma[i-1]])/(gbdata[gbdata['feature'] == col][roma[i]]-gbdata[gbdata['feature'] == col][roma[i-1]])\n",
    "                        ms[idx, i] = (gbdata[gbdata['feature'] == col][roma[i]] - df[col])/(gbdata[gbdata['feature'] == col][roma[i]]-gbdata[gbdata['feature'] == col][roma[i-1]])\n",
    "                        break\n",
    "        else:\n",
    "            if df[col] > np.float64(gbdata[gbdata['feature'] == col][roma[0]]):\n",
    "                ms[idx, 0] = 1\n",
    "            elif df[col] < np.float64(gbdata[gbdata['feature'] == col][roma[-1]]):\n",
    "                ms[idx, -1] = 1\n",
    "            else:\n",
    "                for i in range(5):\n",
    "                    if df[col] > np.float64(gbdata[gbdata['feature'] == col][roma[i]]):\n",
    "                        ms[idx, i-1] = (gbdata[gbdata['feature'] == col][roma[i]] - df[col])/(gbdata[gbdata['feature'] == col][roma[i]]-gbdata[gbdata['feature'] == col][roma[i-1]])\n",
    "                        ms[idx, i] = (df[col] - gbdata[gbdata['feature'] == col][roma[i-1]])/(gbdata[gbdata['feature'] == col][roma[i]]-gbdata[gbdata['feature'] == col][roma[i-1]])\n",
    "                        break\n",
    "        ms2[0, idx] = df[col]**3/ms1[0, idx]**3\n",
    "    ms2 = ms2/ms2.sum()\n",
    "    print(ms2)\n",
    "    return np.argmax(np.dot(ms2, ms))+1"
   ]
  },
  {
   "cell_type": "code",
   "execution_count": 471,
   "metadata": {
    "collapsed": true
   },
   "outputs": [
    {
     "name": "stdout",
     "output_type": "stream",
     "text": [
      "[[3.34449670e-04 1.52615292e-03 5.46561479e-04 8.05413815e-01\n",
      "  1.00347032e-06 4.23339040e-07 6.42221003e-05 1.56792237e-05\n",
      "  5.80711989e-04 1.90769115e-01 1.25433790e-07 1.25433790e-04\n",
      "  8.54796155e-05 8.02776254e-09 9.29313861e-09 1.25433790e-04\n",
      "  3.44190319e-04 6.42221003e-05 1.95990296e-06 1.00347032e-06]]\n",
      "[[2.13651104e-04 1.68318073e-03 5.28049396e-04 6.82065226e-01\n",
      "  7.66126866e-07 3.23209772e-07 4.90321194e-05 1.19707323e-05\n",
      "  7.66126866e-04 3.13610118e-01 9.57658583e-08 9.57658583e-05\n",
      "  3.14599463e-05 6.12901493e-09 1.19707323e-08 7.66126866e-04\n",
      "  1.27464357e-04 4.90321194e-05 1.49634154e-06 9.57658583e-08]]\n",
      "[[3.65960435e-04 6.46198059e-04 5.66842144e-04 8.90514543e-01\n",
      "  6.97191047e-07 2.94127473e-07 4.46202270e-05 1.08936101e-05\n",
      "  2.06575125e-04 1.06761127e-01 8.71488809e-08 8.71488809e-05\n",
      "  2.86291917e-05 5.57752838e-09 2.35301979e-09 8.71488809e-05\n",
      "  5.97754174e-04 4.46202270e-05 3.67659341e-05 8.71488809e-08]]\n",
      "[[6.99751901e-02 1.86436134e-03 3.10376428e-03 6.90504199e-02\n",
      "  1.63675069e-04 6.90504199e-05 1.04752044e-02 2.04593837e-02\n",
      "  7.57754951e-04 7.02332280e-01 2.04593837e-08 2.04593837e-02\n",
      "  1.25646190e-02 1.30940056e-03 2.17851517e-07 2.04593837e-02\n",
      "  5.61405488e-02 1.04752044e-02 3.19677870e-04 2.04593837e-05]]\n",
      "[[1.63495674e-01 4.81507499e-02 3.67659119e-03 7.81409615e-03\n",
      "  2.89410968e-04 1.22095252e-04 1.85223020e-02 4.52204638e-03\n",
      "  1.33986559e-03 5.65255798e-01 3.61763711e-05 3.61763711e-02\n",
      "  1.35027581e-02 2.31528775e-03 1.18542733e-06 3.61763711e-02\n",
      "  7.94794872e-02 1.85223020e-02 5.65255798e-04 3.61763711e-05]]\n",
      "[[4.54015679e-03 2.13617803e-03 1.23621413e-03 8.68977110e-01\n",
      "  6.22792427e-06 2.62740555e-06 3.98587153e-04 9.73113167e-05\n",
      "  9.44799178e-04 1.19210547e-01 7.78490534e-07 7.78490534e-04\n",
      "  2.13792963e-04 4.98233942e-08 8.60948251e-08 7.78490534e-04\n",
      "  2.67022253e-04 3.98587153e-04 1.21639146e-05 7.78490534e-07]]\n",
      "[[1.54903224e-03 2.58346062e-03 3.60162063e-03 9.49865303e-01\n",
      "  3.26419915e-06 1.37708402e-06 2.08908746e-04 5.10031118e-05\n",
      "  6.63381985e-03 3.35857021e-02 4.08024894e-07 4.08024894e-04\n",
      "  1.79113136e-04 2.61135932e-08 1.52294476e-07 4.08024894e-04\n",
      "  7.05067017e-04 2.08908746e-04 6.37538897e-06 4.08024894e-07]]\n",
      "[[4.61433682e-03 5.24275436e-03 1.55340870e-03 4.15625113e-01\n",
      "  1.02397546e-05 4.31989647e-06 6.55344295e-04 1.59996166e-04\n",
      "  1.27996933e-03 5.61875815e-01 1.27996933e-06 1.27996933e-03\n",
      "  4.97929827e-04 8.19180368e-08 9.48303674e-08 1.27996933e-03\n",
      "  5.24275436e-03 6.55344295e-04 1.99995207e-05 1.27996933e-06]]\n",
      "[[2.50299140e-02 5.82815057e-02 1.23098335e-03 3.09452107e-02\n",
      "  5.41201719e-05 2.28319475e-05 3.46369100e-03 6.76502148e-03\n",
      "  1.46124464e-03 8.20511698e-01 6.76502148e-09 6.76502148e-03\n",
      "  1.85784402e-03 4.32961375e-07 5.41201719e-08 6.76502148e-03\n",
      "  3.32365505e-02 3.46369100e-03 1.05703461e-04 3.94536053e-05]]\n",
      "[[2.12979513e-02 2.61955487e-02 3.15269416e-04 4.25998099e-03\n",
      "  5.11631810e-05 2.15844670e-05 3.27444358e-03 7.99424703e-04\n",
      "  4.09305448e-04 8.99244069e-01 6.39539763e-06 6.39539763e-03\n",
      "  1.75633607e-03 4.09305448e-07 1.00704489e-06 6.39539763e-03\n",
      "  2.61955487e-02 3.27444358e-03 9.99280879e-05 6.39539763e-06]]\n",
      "[[1.10400222e-03 1.81647421e-03 8.12292659e-04 9.24574722e-01\n",
      "  2.95782489e-06 1.24783237e-06 1.89300793e-04 4.62160138e-05\n",
      "  1.01453394e-03 6.84710580e-02 3.69728111e-07 3.69728111e-04\n",
      "  2.19139330e-04 2.36625991e-08 4.65750938e-07 3.69728111e-04\n",
      "  8.12292659e-04 1.89300793e-04 5.77700173e-06 3.69728111e-07]]\n",
      "[[2.34288089e-03 4.31698706e-03 1.39532171e-03 9.43482508e-01\n",
      "  7.02949246e-06 2.96556713e-06 4.49887518e-04 5.12450001e-03\n",
      "  8.78686558e-04 3.76736862e-02 8.78686558e-07 8.78686558e-04\n",
      "  1.71442292e-04 5.62359397e-08 8.27012759e-07 8.78686558e-04\n",
      "  1.93047437e-03 4.49887518e-04 1.37294775e-05 8.78686558e-07]]\n",
      "[[5.72974056e-03 7.32919078e-03 2.81934311e-03 7.01244870e-01\n",
      "  1.30525144e-05 5.50652951e-06 8.35360921e-04 2.03945537e-04\n",
      "  3.31582208e-03 2.64115385e-01 1.63156430e-06 1.63156430e-03\n",
      "  7.44862944e-04 1.04420115e-07 2.86528796e-07 1.63156430e-03\n",
      "  9.51528299e-03 8.35360921e-04 2.54931922e-05 1.63156430e-06]]\n",
      "[[9.99073459e-04 2.04276871e-03 7.85798333e-04 9.20532109e-04\n",
      "  1.53476237e-06 6.47477875e-07 9.82247916e-05 1.91845296e-04\n",
      "  9.99073459e-04 9.93320651e-01 1.91845296e-10 1.91845296e-04\n",
      "  8.75837086e-05 1.22780990e-08 3.37187293e-09 1.91845296e-04\n",
      "  6.58029366e-05 9.82247916e-05 2.99758275e-06 1.53476237e-06]]\n",
      "[[3.04551881e-02 1.12216936e-02 2.61516029e-03 3.65298680e-02\n",
      "  4.08618795e-05 1.72386054e-05 2.61516029e-03 5.10773493e-03\n",
      "  2.61516029e-03 8.73187079e-01 5.10773493e-06 5.10773493e-03\n",
      "  1.75195308e-03 3.26895036e-07 6.38466867e-07 5.10773493e-03\n",
      "  2.09212823e-02 2.61516029e-03 7.98083583e-05 5.10773493e-06]]\n",
      "[[1.14398893e-05 5.48347450e-03 1.33873889e-03 8.95825887e-01\n",
      "  3.17330700e-06 1.33873889e-06 2.03091648e-04 4.95829219e-05\n",
      "  1.08844430e-03 9.45359889e-02 3.96663375e-07 3.96663375e-04\n",
      "  2.52300120e-04 2.53864560e-08 1.29978655e-08 3.96663375e-04\n",
      "  2.03091648e-04 2.03091648e-04 6.19786524e-06 3.96663375e-07]]\n",
      "[[9.40025139e-04 1.32299519e-02 7.75437766e-03 5.80088541e-01\n",
      "  2.20195495e-04 3.44055461e-06 5.21944877e-04 1.27427948e-04\n",
      "  1.29504552e-02 3.80497815e-01 1.01942359e-06 1.01942359e-03\n",
      "  9.59473325e-04 6.52431096e-08 9.92266143e-08 1.01942359e-03\n",
      "  1.27427948e-04 5.21944877e-04 1.59284935e-05 1.01942359e-06]]\n",
      "[[3.15406848e-03 8.24506714e-03 2.87318577e-03 3.44605081e-01\n",
      "  1.13101058e-05 1.13101058e-05 7.23846772e-04 1.76720403e-04\n",
      "  2.44298286e-03 6.32937732e-01 1.41376323e-06 1.41376323e-03\n",
      "  1.06537097e-03 9.04808465e-08 2.22616813e-07 1.41376323e-03\n",
      "  1.76720403e-04 7.23846772e-04 2.20900504e-05 1.41376323e-06]]\n",
      "[[4.60560833e-03 1.23392713e-02 1.87191316e-03 5.32216975e-03\n",
      "  2.33989144e-04 1.23392713e-05 1.87191316e-03 4.57010048e-04\n",
      "  1.87191316e-03 9.58419535e-01 3.65608038e-06 3.65608038e-03\n",
      "  2.49151641e-03 2.33989144e-07 3.89299439e-08 3.65608038e-03\n",
      "  1.25403557e-03 1.87191316e-03 5.71262560e-05 3.65608038e-06]]\n",
      "[[2.37676016e-02 1.71050785e-01 1.77087550e-03 2.17297849e-03\n",
      "  2.10212617e-03 3.28457215e-05 4.98281760e-03 1.68170094e-02\n",
      "  2.10212617e-03 6.70743694e-01 9.73206562e-06 9.73206562e-03\n",
      "  4.61837120e-03 6.22852199e-07 5.34017905e-07 7.78565249e-02\n",
      "  7.09467583e-03 4.98281760e-03 1.52063525e-04 9.73206562e-06]]\n",
      "[[3.05683209e-03 1.25351046e-02 8.43186312e-03 2.18867550e-01\n",
      "  1.87112932e-05 7.89382682e-06 1.19752276e-03 2.92363956e-04\n",
      "  1.36405327e-02 7.35428668e-01 2.33891165e-06 2.33891165e-03\n",
      "  4.56349730e-04 1.49690346e-07 1.99237850e-07 2.33891165e-03\n",
      "  1.49690346e-04 1.19752276e-03 3.65454945e-05 2.33891165e-06]]\n",
      "[[1.25562133e-03 1.49332070e-02 1.28998657e-02 4.03196590e-01\n",
      "  1.28998657e-05 5.44213084e-06 8.25591405e-04 2.01560402e-04\n",
      "  2.04845090e-02 5.41314444e-01 1.61248321e-06 1.61248321e-03\n",
      "  4.42828202e-04 1.03198926e-07 6.33770402e-08 1.61248321e-03\n",
      "  3.48296374e-04 8.25591405e-04 2.51950502e-05 1.61248321e-06]]\n",
      "[[3.37129226e-04 1.91969539e-03 9.22724698e-04 1.17006566e-02\n",
      "  1.91969539e-06 1.91969539e-06 1.22860505e-04 2.99952405e-05\n",
      "  1.39945794e-03 9.82884041e-01 2.39961924e-07 2.39961924e-04\n",
      "  5.71896455e-05 1.53575631e-08 2.33569339e-08 2.39961924e-04\n",
      "  1.53575631e-05 1.22860505e-04 3.74940507e-06 2.39961924e-07]]\n",
      "[[1.35178796e-03 2.43187329e-03 6.07010794e-04 4.42510869e-04\n",
      "  3.33590300e-06 1.40733408e-06 2.13497792e-04 5.21234844e-05\n",
      "  1.31558130e-03 9.92126898e-01 4.16987875e-07 4.16987875e-04\n",
      "  2.56082679e-04 2.66872240e-08 1.36638587e-08 4.16987875e-04\n",
      "  1.43026841e-04 2.13497792e-04 6.51543555e-06 4.16987875e-07]]\n",
      "[[6.76414976e-04 2.69526651e-03 3.11651123e-04 8.32631621e-03\n",
      "  1.22679404e-06 5.17553736e-07 7.85148186e-05 1.11791607e-04\n",
      "  5.52829744e-04 9.86780374e-01 1.53349255e-07 1.53349255e-04\n",
      "  6.73166426e-05 9.81435232e-09 4.01995871e-08 1.53349255e-04\n",
      "  9.81435232e-06 7.85148186e-05 2.39608211e-06 1.53349255e-07]]\n",
      "[[1.77497888e-02 3.23571726e-02 6.10796576e-03 3.10065269e-01\n",
      "  2.60462481e-05 1.09882609e-05 1.66695988e-03 4.06972626e-04\n",
      "  1.02718685e-02 5.87219581e-01 3.25578101e-06 3.25578101e-03\n",
      "  2.88050667e-03 2.08369985e-07 1.92971443e-06 2.60462481e-02\n",
      "  2.08369985e-04 1.66695988e-03 5.08715783e-05 3.25578101e-06]]\n",
      "[[3.02731620e-03 3.92579251e-02 1.69902421e-02 1.13656071e-02\n",
      "  1.78688780e-05 7.53843293e-06 1.14360819e-03 2.79201219e-04\n",
      "  3.63148547e-02 8.68912166e-01 2.23360976e-06 2.23360976e-03\n",
      "  9.42304116e-04 1.42951024e-07 9.80501076e-07 1.78688780e-02\n",
      "  1.42951024e-04 1.14360819e-03 3.49001524e-05 3.14063401e-04]]\n",
      "[[6.55627161e-03 1.62420061e-02 1.24132492e-02 2.21274167e-02\n",
      "  2.42446272e-05 1.02282021e-05 1.55165614e-03 1.03948839e-03\n",
      "  1.97117799e-02 8.32272595e-01 3.03057841e-06 3.03057841e-03\n",
      "  1.27852526e-03 1.93957018e-07 1.03948839e-06 8.18256170e-02\n",
      "  1.93957018e-04 1.55165614e-03 4.73527876e-05 1.19113854e-04]]\n",
      "[[1.52051395e-02 8.91764481e-03 8.30812709e-04 8.02198931e-03\n",
      "  3.65266731e-05 1.54096902e-05 2.33770708e-03 5.70729268e-04\n",
      "  2.33770708e-03 9.14087415e-01 4.56583414e-06 4.56583414e-03\n",
      "  3.55536026e-03 2.92213385e-07 1.85018557e-06 3.65266731e-02\n",
      "  5.70729268e-04 2.33770708e-03 7.13411585e-05 4.56583414e-06]]\n"
     ]
    },
    {
     "name": "stdout",
     "output_type": "stream",
     "text": [
      "[[7.31619495e-02 2.03457112e-01 6.02835888e-02 1.97081854e-02\n",
      "  1.42894433e-04 6.02835888e-05 9.14524369e-03 2.23272551e-03\n",
      "  9.30189833e-02 5.44539425e-02 1.78618041e-05 3.13939069e-01\n",
      "  1.58029811e-02 1.14315546e-06 4.68236477e-06 1.42894433e-01\n",
      "  2.23272551e-03 9.14524369e-03 2.79090689e-04 1.78618041e-05]]\n",
      "[[7.03947464e-03 7.03947464e-03 1.02473893e-02 6.21371820e-02\n",
      "  5.63157971e-05 2.37582269e-05 3.60421102e-03 8.79934330e-04\n",
      "  3.25901604e-02 8.53799401e-01 7.03947464e-06 7.03947464e-03\n",
      "  4.32311737e-03 4.50526377e-07 1.37348598e-06 7.03947464e-03\n",
      "  4.50526377e-04 3.60421102e-03 1.09991791e-04 7.03947464e-06]]\n",
      "[[4.23485895e-02 9.86804911e-02 2.68034158e-02 9.04615282e-02\n",
      "  1.47301491e-04 6.21428165e-05 9.42729543e-03 2.30158580e-03\n",
      "  3.18171221e-02 6.32073000e-01 1.84126864e-05 1.84126864e-02\n",
      "  1.29803731e-02 1.17841193e-06 3.23356233e-06 1.84126864e-02\n",
      "  6.31555143e-03 9.42729543e-03 2.87698225e-04 1.84126864e-05]]\n",
      "[[3.28365129e-02 1.12314107e-01 8.90670324e-03 7.51233034e-03\n",
      "  7.88817868e-05 3.32782538e-05 5.04843436e-03 1.23252792e-03\n",
      "  1.70384660e-02 7.83956778e-01 9.86022335e-06 9.86022335e-03\n",
      "  4.86147466e-03 6.31054295e-07 4.67918871e-06 9.86022335e-03\n",
      "  1.23252792e-03 5.04843436e-03 1.54065990e-04 9.86022335e-06]]\n",
      "[[1.47793897e-04 2.39375725e-03 1.20317093e-04 3.49693535e-01\n",
      "  8.72360514e-07 3.68027092e-07 5.58310729e-05 1.36306330e-05\n",
      "  6.35950815e-04 6.46608989e-01 1.09045064e-07 1.09045064e-04\n",
      "  4.60033865e-05 6.97888411e-09 1.22660867e-07 1.09045064e-04\n",
      "  6.97888411e-06 5.58310729e-05 1.70382913e-06 1.09045064e-07]]\n",
      "[[7.84042577e-03 1.47414160e-01 1.98808692e-02 1.84116730e-01\n",
      "  1.59046954e-04 6.70979337e-05 1.01790051e-02 2.48510866e-03\n",
      "  2.89406550e-02 5.36783470e-01 1.98808692e-05 1.98808692e-02\n",
      "  1.05655090e-02 1.27237563e-06 3.13052119e-06 1.98808692e-02\n",
      "  1.27237563e-03 1.01790051e-02 3.10638582e-04 1.98808692e-05]]\n",
      "[[6.55217339e-03 8.84377145e-02 9.98568250e-03 3.59981587e-01\n",
      "  8.84377145e-05 3.73096608e-05 5.66001373e-03 1.38183929e-03\n",
      "  2.24664550e-02 4.73970876e-01 1.10547143e-05 1.10547143e-02\n",
      "  2.76419815e-03 7.07501716e-07 1.22256297e-06 1.10547143e-02\n",
      "  7.07501716e-04 5.66001373e-03 1.72729911e-04 1.10547143e-05]]\n",
      "[[1.02076862e-02 1.39746939e-01 8.70425081e-03 9.94596352e-03\n",
      "  1.76570077e-04 7.44905010e-05 1.13004849e-02 2.75890745e-03\n",
      "  2.20712596e-02 7.23231033e-01 2.20712596e-05 2.20712596e-02\n",
      "  1.45339906e-02 1.41256061e-06 2.44090474e-06 2.20712596e-02\n",
      "  1.41256061e-03 1.13004849e-02 3.44863431e-04 2.20712596e-05]]\n",
      "[[6.10265874e-03 2.32797956e-02 6.10265874e-03 3.04254444e-02\n",
      "  9.53540428e-05 4.02274868e-05 6.10265874e-03 1.48990692e-03\n",
      "  6.10265874e-03 8.83073790e-01 1.19192553e-05 1.19192553e-02\n",
      "  4.44883822e-03 7.62832342e-07 7.62832342e-07 1.19192553e-02\n",
      "  2.57455915e-03 6.10265874e-03 1.86238365e-04 2.05964732e-05]]\n"
     ]
    }
   ],
   "source": [
    "membership = [compute_membership(total_df.iloc[i], gbdata) for i in range(len(total_df))]"
   ]
  },
  {
   "cell_type": "code",
   "execution_count": 476,
   "metadata": {},
   "outputs": [
    {
     "data": {
      "text/plain": [
       "(array([10.,  0.,  4.,  0.,  0., 10.,  0.,  5.,  0.,  9.]),\n",
       " array([1. , 1.4, 1.8, 2.2, 2.6, 3. , 3.4, 3.8, 4.2, 4.6, 5. ]),\n",
       " <a list of 10 Patch objects>)"
      ]
     },
     "execution_count": 476,
     "metadata": {},
     "output_type": "execute_result"
    },
    {
     "data": {
      "image/png": "[encoded data removed]",
      "text/plain": [
       "<Figure size 432x288 with 1 Axes>"
      ]
     },
     "metadata": {
      "needs_background": "light"
     },
     "output_type": "display_data"
    }
   ],
   "source": [
    "plt.hist(membership)"
   ]
  },
  {
   "cell_type": "code",
   "execution_count": 474,
   "metadata": {},
   "outputs": [],
   "source": [
    "total_df.to_excel(\"total_df.xlsx\", index=False)"
   ]
  },
  {
   "cell_type": "code",
   "execution_count": 650,
   "metadata": {},
   "outputs": [
    {
     "data": {
      "text/plain": [
       "Index(['溶解氧', '高锰酸盐指数', '生化需氧量', '氨氮', '石油类', '挥发酚', '汞', '铅', '化学需氧量', '总磷',\n",
       "       '铜', '锌', '氟化物', '硒', '砷', '镉', '六价铬', '氰化物', '阴离子表面活性剂', '硫化物'],\n",
       "      dtype='object')"
      ]
     },
     "execution_count": 650,
     "metadata": {},
     "output_type": "execute_result"
    }
   ],
   "source": [
    "total_df.columns"
   ]
  },
  {
   "cell_type": "code",
   "execution_count": 319,
   "metadata": {},
   "outputs": [],
   "source": [
    "def WPI(feature,val):\n",
    "    #total_interval=gbdata.loc[feature,'Ⅴ']-gbdata.loc[feature,'Ⅰ']\n",
    "    wpi_l=0#从最低的wpi值=0开始计算，一次一次往上加\n",
    "    roma=[0,'Ⅰ类','Ⅱ类','Ⅲ类','Ⅳ类','Ⅴ类']\n",
    "    for i in range(1,6):\n",
    "        # gbdata[roma[i]][feature]\n",
    "        if val < gbdata.loc[feature,roma[i]]:\n",
    "            break#小于后面的一个值，已经判断好区间可以输出了\n",
    "        else:\n",
    "            wpi_l=wpi_l+20\n",
    "    \n",
    "    #i表示feature的val所属于的类型（3，5小于4就是属于Ⅳ类，i=4）\n",
    "    if val > gbdata.loc[feature,'Ⅴ类']:\n",
    "        WPI_index = 100+(val-gbdata.loc[feature,'Ⅴ类'])/gbdata.loc[feature,'Ⅴ类']*40\n",
    "    elif val > gbdata.loc[feature,'Ⅰ类']:\n",
    "        WPI_index = wpi_l+20/(gbdata.loc[feature,roma[i]]-gbdata.loc[feature,roma[i-1]])*(val-gbdata.loc[feature,roma[i-1]])\n",
    "    else:\n",
    "        WPI_index=20\n",
    "    return WPI_index"
   ]
  },
  {
   "cell_type": "code",
   "execution_count": 327,
   "metadata": {},
   "outputs": [
    {
     "data": {
      "text/plain": [
       "60.0"
      ]
     },
     "execution_count": 327,
     "metadata": {},
     "output_type": "execute_result"
    }
   ],
   "source": [
    "WPI(3,20)"
   ]
  },
  {
   "cell_type": "code",
   "execution_count": 329,
   "metadata": {},
   "outputs": [
    {
     "data": {
      "text/html": [
       "<div>\n",
       "<style scoped>\n",
       "    .dataframe tbody tr th:only-of-type {\n",
       "        vertical-align: middle;\n",
       "    }\n",
       "\n",
       "    .dataframe tbody tr th {\n",
       "        vertical-align: top;\n",
       "    }\n",
       "\n",
       "    .dataframe thead th {\n",
       "        text-align: right;\n",
       "    }\n",
       "</style>\n",
       "<table border=\"1\" class=\"dataframe\">\n",
       "  <thead>\n",
       "    <tr style=\"text-align: right;\">\n",
       "      <th></th>\n",
       "      <th>Ⅰ类</th>\n",
       "      <th>Ⅱ类</th>\n",
       "      <th>Ⅲ类</th>\n",
       "      <th>Ⅳ类</th>\n",
       "      <th>Ⅴ类</th>\n",
       "    </tr>\n",
       "    <tr>\n",
       "      <th>feature</th>\n",
       "      <th></th>\n",
       "      <th></th>\n",
       "      <th></th>\n",
       "      <th></th>\n",
       "      <th></th>\n",
       "    </tr>\n",
       "  </thead>\n",
       "  <tbody>\n",
       "    <tr>\n",
       "      <th>pH</th>\n",
       "      <td>6~9</td>\n",
       "      <td>NaN</td>\n",
       "      <td>NaN</td>\n",
       "      <td>NaN</td>\n",
       "      <td>NaN</td>\n",
       "    </tr>\n",
       "    <tr>\n",
       "      <th>溶解氧</th>\n",
       "      <td>7.5</td>\n",
       "      <td>6.0</td>\n",
       "      <td>5.0</td>\n",
       "      <td>3.0</td>\n",
       "      <td>2.0</td>\n",
       "    </tr>\n",
       "    <tr>\n",
       "      <th>高锰酸盐指数</th>\n",
       "      <td>2</td>\n",
       "      <td>4.0</td>\n",
       "      <td>6.0</td>\n",
       "      <td>10.0</td>\n",
       "      <td>15.0</td>\n",
       "    </tr>\n",
       "    <tr>\n",
       "      <th>化学需氧量</th>\n",
       "      <td>15</td>\n",
       "      <td>15.0</td>\n",
       "      <td>20.0</td>\n",
       "      <td>30.0</td>\n",
       "      <td>40.0</td>\n",
       "    </tr>\n",
       "    <tr>\n",
       "      <th>生化需氧量</th>\n",
       "      <td>3</td>\n",
       "      <td>3.0</td>\n",
       "      <td>34.0</td>\n",
       "      <td>6.0</td>\n",
       "      <td>10.0</td>\n",
       "    </tr>\n",
       "  </tbody>\n",
       "</table>\n",
       "</div>"
      ],
      "text/plain": [
       "          Ⅰ类    Ⅱ类    Ⅲ类    Ⅳ类    Ⅴ类\n",
       "feature                             \n",
       "pH       6~9   NaN   NaN   NaN   NaN\n",
       "溶解氧      7.5   6.0   5.0   3.0   2.0\n",
       "高锰酸盐指数     2   4.0   6.0  10.0  15.0\n",
       "化学需氧量     15  15.0  20.0  30.0  40.0\n",
       "生化需氧量      3   3.0  34.0   6.0  10.0"
      ]
     },
     "execution_count": 329,
     "metadata": {},
     "output_type": "execute_result"
    }
   ],
   "source": [
    "gbdata1 = gbdata.set_index('feature')\n",
    "gbdata1.head()"
   ]
  },
  {
   "cell_type": "code",
   "execution_count": 618,
   "metadata": {},
   "outputs": [],
   "source": [
    "font2 = {'family' : 'SimHei',\n",
    "'weight' : 'normal',\n",
    "'size' : 20,\n",
    "}"
   ]
  },
  {
   "cell_type": "code",
   "execution_count": 584,
   "metadata": {},
   "outputs": [
    {
     "data": {
      "image/png": "[encoded data removed]",
      "text/plain": [
       "<Figure size 864x1080 with 4 Axes>"
      ]
     },
     "metadata": {
      "needs_background": "light"
     },
     "output_type": "display_data"
    }
   ],
   "source": [
    "gpresult = result.groupby(['membership'])\n",
    "f, axes = plt.subplots(4, 1, figsize=(12, 15), sharey=True)\n",
    "gx = fig.add_gridspec(4, 1)\n",
    "for (idx), (key, group) in enumerate(gpresult):\n",
    "    if idx == 0:\n",
    "        h = sns.countplot(group['rank'], ax=axes[idx])\n",
    "        h.set_xlabel(\" \", font2)\n",
    "        h.set_xticklabels(['B类'])\n",
    "        h.set_xlabel(\"Ⅱ类国标水质\")\n",
    "    if idx == 1:\n",
    "        h = sns.countplot(group['rank'], ax=axes[idx])\n",
    "        h.set_xlabel(\" \", font2)\n",
    "        h.set_xticklabels(['A类', 'B类','C类'])\n",
    "        h.set_xlabel(\"Ⅲ类国标水质\")\n",
    "    if idx == 2:\n",
    "        h = sns.countplot(group['rank'], ax=axes[idx])\n",
    "        h.set_xlabel(\" \", font2)\n",
    "        h.set_xticklabels(['A类', 'B类','C类','D类'])\n",
    "        h.set_xlabel(\"Ⅳ类国标水质\")\n",
    "    if idx == 3:\n",
    "        h = sns.countplot(group['rank'], ax=axes[idx])\n",
    "        h.set_xlabel(\"综合水质评价等级\", font2)\n",
    "        h.set_xticklabels(['B类','C类','D类','E类'])\n",
    "        h.set_xlabel(\"Ⅴ类国标水质\")\n",
    "plt.savefig(\"第一问图1.png\", dpi=300)"
   ]
  },
  {
   "cell_type": "code",
   "execution_count": 602,
   "metadata": {},
   "outputs": [
    {
     "data": {
      "image/png": "[encoded data removed]",
      "text/plain": [
       "<Figure size 432x288 with 1 Axes>"
      ]
     },
     "metadata": {
      "needs_background": "light"
     },
     "output_type": "display_data"
    }
   ],
   "source": [
    "gpresult = result.groupby(['membership'])\n",
    "for (idx), (key, group) in enumerate(gpresult):\n",
    "    gp = group.groupby('rank').count()\n",
    "    plt.scatter([idx for i in range(len(gp.index))], gp.index, s=50*gp.membership)"
   ]
  },
  {
   "cell_type": "code",
   "execution_count": 603,
   "metadata": {},
   "outputs": [
    {
     "data": {
      "text/html": [
       "<div>\n",
       "<style scoped>\n",
       "    .dataframe tbody tr th:only-of-type {\n",
       "        vertical-align: middle;\n",
       "    }\n",
       "\n",
       "    .dataframe tbody tr th {\n",
       "        vertical-align: top;\n",
       "    }\n",
       "\n",
       "    .dataframe thead th {\n",
       "        text-align: right;\n",
       "    }\n",
       "</style>\n",
       "<table border=\"1\" class=\"dataframe\">\n",
       "  <thead>\n",
       "    <tr style=\"text-align: right;\">\n",
       "      <th></th>\n",
       "      <th>membership</th>\n",
       "      <th>rank</th>\n",
       "    </tr>\n",
       "  </thead>\n",
       "  <tbody>\n",
       "    <tr>\n",
       "      <th>0</th>\n",
       "      <td>5.0</td>\n",
       "      <td>5</td>\n",
       "    </tr>\n",
       "    <tr>\n",
       "      <th>1</th>\n",
       "      <td>5.0</td>\n",
       "      <td>5</td>\n",
       "    </tr>\n",
       "    <tr>\n",
       "      <th>2</th>\n",
       "      <td>5.0</td>\n",
       "      <td>5</td>\n",
       "    </tr>\n",
       "    <tr>\n",
       "      <th>3</th>\n",
       "      <td>3.0</td>\n",
       "      <td>1</td>\n",
       "    </tr>\n",
       "    <tr>\n",
       "      <th>4</th>\n",
       "      <td>2.0</td>\n",
       "      <td>2</td>\n",
       "    </tr>\n",
       "  </tbody>\n",
       "</table>\n",
       "</div>"
      ],
      "text/plain": [
       "   membership  rank\n",
       "0         5.0     5\n",
       "1         5.0     5\n",
       "2         5.0     5\n",
       "3         3.0     1\n",
       "4         2.0     2"
      ]
     },
     "execution_count": 603,
     "metadata": {},
     "output_type": "execute_result"
    }
   ],
   "source": [
    "result.head()"
   ]
  },
  {
   "cell_type": "code",
   "execution_count": 647,
   "metadata": {},
   "outputs": [
    {
     "data": {
      "image/png": "[encoded data removed]",
      "text/plain": [
       "<Figure size 1584x720 with 1 Axes>"
      ]
     },
     "metadata": {
      "needs_background": "light"
     },
     "output_type": "display_data"
    }
   ],
   "source": [
    "fig = plt.figure(figsize=(22, 10))\n",
    "ax = fig.add_subplot()\n",
    "h = sns.stripplot(x=\"membership\", y=\"rank\", data=result, size=15, ax=ax1)\n",
    "ax.spines[\"right\"].set_color(\"None\")\n",
    "ax.spines[\"top\"].set_color(\"None\")\n",
    "plt.xticks(fontsize=20)\n",
    "plt.yticks([1,2,3,4,5],fontsize=20)\n",
    "h.set_xticklabels(['Ⅱ类','Ⅲ类','Ⅳ类','Ⅴ类'])\n",
    "h.set_yticklabels(['A','B','C','D','E'])\n",
    "h.set_ylabel(\"好坏程度\", font2)\n",
    "h.set_xlabel(\"隶属水质\", font2)\n",
    "\n",
    "plt.savefig(\"水质分布图.png\", dpi=300)"
   ]
  },
  {
   "cell_type": "code",
   "execution_count": 666,
   "metadata": {},
   "outputs": [
    {
     "data": {
      "text/html": [
       "<div>\n",
       "<style scoped>\n",
       "    .dataframe tbody tr th:only-of-type {\n",
       "        vertical-align: middle;\n",
       "    }\n",
       "\n",
       "    .dataframe tbody tr th {\n",
       "        vertical-align: top;\n",
       "    }\n",
       "\n",
       "    .dataframe thead th {\n",
       "        text-align: right;\n",
       "    }\n",
       "</style>\n",
       "<table border=\"1\" class=\"dataframe\">\n",
       "  <thead>\n",
       "    <tr style=\"text-align: right;\">\n",
       "      <th></th>\n",
       "      <th>生化需氧量</th>\n",
       "      <th>氨氮</th>\n",
       "      <th>铜</th>\n",
       "      <th>砷</th>\n",
       "      <th>六价铬</th>\n",
       "      <th>硫化物</th>\n",
       "    </tr>\n",
       "  </thead>\n",
       "  <tbody>\n",
       "    <tr>\n",
       "      <th>0</th>\n",
       "      <td>1.327204</td>\n",
       "      <td>2.630142</td>\n",
       "      <td>-1.502938</td>\n",
       "      <td>1.327204</td>\n",
       "      <td>1.327204</td>\n",
       "      <td>-1.690806</td>\n",
       "    </tr>\n",
       "  </tbody>\n",
       "</table>\n",
       "</div>"
      ],
      "text/plain": [
       "      生化需氧量        氨氮         铜         砷       六价铬       硫化物\n",
       "0  1.327204  2.630142 -1.502938  1.327204  1.327204 -1.690806"
      ]
     },
     "execution_count": 666,
     "metadata": {},
     "output_type": "execute_result"
    }
   ],
   "source": [
    "ls = pd.read_excel(\"ls.xlsx\", header=None, names=total_df.columns)\n",
    "for col in ls.columns:\n",
    "    if ls.iloc[0][col] == 0:\n",
    "        ls.drop(col, axis=1, inplace=True)\n",
    "ls.head()"
   ]
  },
  {
   "cell_type": "code",
   "execution_count": 686,
   "metadata": {},
   "outputs": [
    {
     "data": {
      "image/png": "[encoded data removed]",
      "text/plain": [
       "<Figure size 864x360 with 1 Axes>"
      ]
     },
     "metadata": {
      "needs_background": "light"
     },
     "output_type": "display_data"
    }
   ],
   "source": [
    "df = pd.DataFrame({'feature':ls.columns, 'val':ls.iloc[0]})\n",
    "df.set_index('feature', inplace=True)\n",
    "df.sort_values('val', inplace=True)\n",
    "colors = [\"red\" if x < 0 else \"green\" for x in df[\"val\"]]\n",
    "fig = plt.figure(figsize=(12,5))\n",
    "ax = fig.add_subplot()\n",
    "ax.hlines(y = df.index, xmin = 0 , xmax = df[\"val\"],  color = colors, linewidth = 1)\n",
    "for x, y in zip(df[\"val\"], df.index):\n",
    "    # annotate text\n",
    "    ax.text(x - 0.1 if x < 0 else x + 0.1, \n",
    "             y, \n",
    "             round(x, 2), \n",
    "             color = \"red\" if x < 0 else \"green\",  \n",
    "             horizontalalignment='right' if x < 0 else 'left', \n",
    "             size = 10)\n",
    "    # plot the points\n",
    "    ax.scatter(x, \n",
    "                y, \n",
    "                color = \"red\" if x < 0 else \"green\", \n",
    "                alpha = 0.5)\n",
    "ax.vlines(x=1.28, ymin=-0.5, ymax=5.5, linestyle='--')\n",
    "ax.vlines(x=-1.28, ymin=-0.5, ymax=5.5, linestyle='--')\n",
    "ax.set_yticks(df.index)\n",
    "ax.set_xlim(-3, 3)\n",
    "plt.xticks([-3,-2,-1.28,-1,0,1,1.28,2,3])\n",
    "ax.grid(linestyle='--', alpha=0.5)\n",
    "# change the spines to make it nicer\n",
    "ax.spines[\"top\"].set_color(\"None\")\n",
    "ax.spines[\"left\"].set_color(\"None\")\n",
    "\n",
    "# with this line, we change the right spine to be in the middle\n",
    "# as a vertical line from the origin\n",
    "ax.spines['right'].set_position(('data',0))\n",
    "ax.spines['right'].set_color('black')\n",
    "plt.savefig(\"mk检验程度.png\", dpi=300)"
   ]
  },
  {
   "cell_type": "code",
   "execution_count": 687,
   "metadata": {},
   "outputs": [
    {
     "data": {
      "text/html": [
       "<div>\n",
       "<style scoped>\n",
       "    .dataframe tbody tr th:only-of-type {\n",
       "        vertical-align: middle;\n",
       "    }\n",
       "\n",
       "    .dataframe tbody tr th {\n",
       "        vertical-align: top;\n",
       "    }\n",
       "\n",
       "    .dataframe thead th {\n",
       "        text-align: right;\n",
       "    }\n",
       "</style>\n",
       "<table border=\"1\" class=\"dataframe\">\n",
       "  <thead>\n",
       "    <tr style=\"text-align: right;\">\n",
       "      <th></th>\n",
       "      <th>0</th>\n",
       "      <th>1</th>\n",
       "      <th>2</th>\n",
       "      <th>3</th>\n",
       "      <th>4</th>\n",
       "      <th>5</th>\n",
       "      <th>6</th>\n",
       "      <th>7</th>\n",
       "      <th>8</th>\n",
       "      <th>9</th>\n",
       "      <th>...</th>\n",
       "      <th>28</th>\n",
       "      <th>29</th>\n",
       "      <th>30</th>\n",
       "      <th>31</th>\n",
       "      <th>32</th>\n",
       "      <th>33</th>\n",
       "      <th>34</th>\n",
       "      <th>35</th>\n",
       "      <th>36</th>\n",
       "      <th>37</th>\n",
       "    </tr>\n",
       "  </thead>\n",
       "  <tbody>\n",
       "    <tr>\n",
       "      <th>0</th>\n",
       "      <td>2.231876</td>\n",
       "      <td>2.137685</td>\n",
       "      <td>2.329781</td>\n",
       "      <td>3.574317</td>\n",
       "      <td>3.410205</td>\n",
       "      <td>3.051511</td>\n",
       "      <td>2.330664</td>\n",
       "      <td>2.933338</td>\n",
       "      <td>3.452619</td>\n",
       "      <td>3.307502</td>\n",
       "      <td>...</td>\n",
       "      <td>2.921222</td>\n",
       "      <td>2.351724</td>\n",
       "      <td>2.797785</td>\n",
       "      <td>2.818519</td>\n",
       "      <td>2.839983</td>\n",
       "      <td>2.183836</td>\n",
       "      <td>2.796999</td>\n",
       "      <td>2.938506</td>\n",
       "      <td>2.880777</td>\n",
       "      <td>3.085028</td>\n",
       "    </tr>\n",
       "  </tbody>\n",
       "</table>\n",
       "<p>1 rows × 38 columns</p>\n",
       "</div>"
      ],
      "text/plain": [
       "         0         1         2         3         4         5         6   \\\n",
       "0  2.231876  2.137685  2.329781  3.574317  3.410205  3.051511  2.330664   \n",
       "\n",
       "         7         8         9   ...        28        29        30        31  \\\n",
       "0  2.933338  3.452619  3.307502  ...  2.921222  2.351724  2.797785  2.818519   \n",
       "\n",
       "         32        33        34        35        36        37  \n",
       "0  2.839983  2.183836  2.796999  2.938506  2.880777  3.085028  \n",
       "\n",
       "[1 rows x 38 columns]"
      ]
     },
     "execution_count": 687,
     "metadata": {},
     "output_type": "execute_result"
    }
   ],
   "source": [
    "data3 = pd.read_excel(\"第三问得分.xlsx\", header=None)\n",
    "data3.head()"
   ]
  },
  {
   "cell_type": "code",
   "execution_count": 690,
   "metadata": {},
   "outputs": [],
   "source": [
    "temp1 = data3[data3.columns[:30]].values\n",
    "temp2 = data3[data3.columns[30:]].values"
   ]
  },
  {
   "cell_type": "code",
   "execution_count": 693,
   "metadata": {},
   "outputs": [],
   "source": [
    "temp1 = np.reshape(temp1, (5,6))\n",
    "temp2 = np.reshape(temp2, (4,2))"
   ]
  },
  {
   "cell_type": "code",
   "execution_count": 695,
   "metadata": {},
   "outputs": [],
   "source": [
    "data1 = pd.DataFrame({'1':temp1[:, 0], '2':temp1[:,1], '3':temp1[:,2], '4':temp1[:,3], '5':temp1[:,4],'6':temp1[:,5]})\n",
    "data2 = pd.DataFrame({'7':temp2[:, 0], '8':temp2[:,1]})"
   ]
  },
  {
   "cell_type": "code",
   "execution_count": 744,
   "metadata": {},
   "outputs": [
    {
     "data": {
      "image/png": "[encoded data removed]",
      "text/plain": [
       "<Figure size 1584x720 with 1 Axes>"
      ]
     },
     "metadata": {
      "needs_background": "light"
     },
     "output_type": "display_data"
    }
   ],
   "source": [
    "data1.index = ['A','B','C','D','E']\n",
    "# instanciate the figure\n",
    "fig = plt.figure(figsize = (22, 10))\n",
    "ax = fig.add_subplot()\n",
    "\n",
    "data1[\"color1\"] = data1.apply(lambda row: \"green\" if row[\"2\"] >= row[\"1\"] else \"red\", axis = 1)\n",
    "data1[\"color2\"] = data1.apply(lambda row: \"green\" if row[\"3\"] >= row[\"2\"] else \"red\", axis = 1)\n",
    "data1[\"color3\"] = data1.apply(lambda row: \"green\" if row[\"4\"] >= row[\"3\"] else \"red\", axis = 1)\n",
    "data1[\"color4\"] = data1.apply(lambda row: \"green\" if row[\"5\"] >= row[\"4\"] else \"red\", axis = 1)\n",
    "data1[\"color5\"] = data1.apply(lambda row: \"green\" if row[\"6\"] >= row[\"5\"] else \"red\", axis = 1)\n",
    "# ----------------------------------------------------------------------------------------------------\n",
    "# plot the data\n",
    "for cont in data1.index:\n",
    "    x1 = '1'\n",
    "    y1 = data1['1'][cont]\n",
    "    x2 = '2'\n",
    "    y2 = data1['2'][cont]\n",
    "    x3 = '3'\n",
    "    y3 = data1['3'][cont]\n",
    "    x4 = '4'\n",
    "    y4 = data1['4'][cont]\n",
    "    x5 = '5'\n",
    "    y5 = data1['5'][cont]\n",
    "    x6 = '6'\n",
    "    y6 = data1['6'][cont]\n",
    "\n",
    "    # df[\"color\"] = df.apply(lambda row: \"green\" if row[\"1957\"] >= row[\"1952\"] else \"red\", axis = 1)\n",
    "    # color = df[df[\"continent\"] == cont][\"color\"]\n",
    "    color1 = data1[data1.index == cont][\"color1\"]\n",
    "    color2 = data1[data1.index == cont][\"color2\"]\n",
    "    color3 = data1[data1.index == cont][\"color3\"]\n",
    "    color4 = data1[data1.index == cont][\"color4\"]\n",
    "    color5 = data1[data1.index == cont][\"color5\"]\n",
    "    \n",
    "    ax.scatter(x1, y1, c=\"orange\", s=200)\n",
    "    ax.scatter(x2, y2, c=\"orange\", s=200)\n",
    "    ax.scatter(x3, y3, c=\"orange\", s=200)\n",
    "    ax.scatter(x4, y4, c=\"orange\", s=200)\n",
    "    ax.scatter(x5, y5, c=\"orange\", s=200)\n",
    "    ax.scatter(x6, y6, c=\"orange\", s=200)\n",
    "    # connect the starting point and the ending point with a line\n",
    "    # check the bouns section for more\n",
    "    ax.plot([x1,x2],[float(y1),float(y2)], linestyle=\"-\", color = color1.values[0])\n",
    "    ax.plot([x2,x3],[float(y2),float(y3)], linestyle=\"-\", color = color2.values[0])\n",
    "    ax.plot([x3,x4],[float(y3),float(y4)], linestyle=\"-\", color = color3.values[0])\n",
    "    ax.plot([x4,x5],[float(y4),float(y5)], linestyle=\"-\", color = color4.values[0])\n",
    "    ax.plot([x5,x6],[float(y5),float(y6)], linestyle=\"-\", color = color5.values[0])\n",
    "#     if cont == 1:\n",
    "#         ax.text(0 - 0.05, y1-0.1, r'{}:{:.2f}'.format('A', y1), horizontalalignment = 'right', verticalalignment = 'center', fontdict = {'size':15})\n",
    "#         ax.text(1 - 0.05, y2-0.1, r'{}:{:.2f}'.format('B', y2), horizontalalignment = 'right', verticalalignment = 'center', fontdict = {'size':15})\n",
    "#         ax.text(2 - 0.05, y3-0.1, r'{}:{:.2f}'.format('C', y3), horizontalalignment = 'right', verticalalignment = 'center', fontdict = {'size':15})\n",
    "#         ax.text(3 - 0.05, y4-0.1, r'{}:{:.2f}'.format('D', y4), horizontalalignment = 'right', verticalalignment = 'center', fontdict = {'size':15})\n",
    "#         ax.text(4 - 0.05, y5-0.1, r'{}:{:.2f}'.format('E', y5), horizontalalignment = 'right', verticalalignment = 'center', fontdict = {'size':15})\n",
    "#     else:\n",
    "    ax.text(0 - 0.05, y1, r'{}:{:.2f}'.format(cont, y1), horizontalalignment = 'right', verticalalignment = 'center', fontdict = {'size':15})\n",
    "    ax.text(1 - 0.05, y2, r'{}:{:.2f}'.format(cont, y2), horizontalalignment = 'right', verticalalignment = 'center', fontdict = {'size':15})\n",
    "    ax.text(2 - 0.05, y3, r'{}:{:.2f}'.format(cont, y3), horizontalalignment = 'right', verticalalignment = 'center', fontdict = {'size':15})\n",
    "    ax.text(3 - 0.05, y4, r'{}:{:.2f}'.format(cont, y4), horizontalalignment = 'right', verticalalignment = 'center', fontdict = {'size':15})\n",
    "    ax.text(4 - 0.05, y5, r'{}:{:.2f}'.format(cont, y5), horizontalalignment = 'right', verticalalignment = 'center', fontdict = {'size':15})\n",
    "    ax.text(5 - 0.05, y6, r'{}:{:.2f}'.format(cont, y6), horizontalalignment = 'right', verticalalignment = 'center', fontdict = {'size':15})\n",
    "    # annotate the value for each continent\n",
    "    # ax.text(ax.get_xlim()[0] - 0.05, y_start, r'{}:{}k'.format(cont, int(y_start)/1000), horizontalalignment = 'right', verticalalignment = 'center', fontdict = {'size':8})\n",
    "    # ax.text(ax.get_xlim()[1] + 0.05, y_finish, r'{}:{}k'.format(cont, int(y_finish)/1000), horizontalalignment = 'left', verticalalignment = 'center', fontdict = {'size':8})\n",
    "\n",
    "# ----------------------------------------------------------------------------------------------------\n",
    "# prettify the plot\n",
    "\n",
    "# get the x and y limits\n",
    "x_lims = ax.get_xlim()\n",
    "y_lims = ax.get_ylim()\n",
    "\n",
    "# change the x and y limits programmaticaly\n",
    "ax.set_xlim(x_lims[0] - 1, x_lims[1] + 1);\n",
    "ax.set_ylim(1.5, 4)\n",
    "# add 2 vertical lines\n",
    "ax.vlines(x1, 0, y_lims[1], color = \"grey\", alpha = 0.3, lw = 0.5)\n",
    "ax.vlines(x2, 0, y_lims[1], color = \"grey\", alpha = 0.3, lw = 0.5)\n",
    "ax.vlines(x3, 0, y_lims[1], color = \"grey\", alpha = 0.3, lw = 0.5)\n",
    "ax.vlines(x4, 0, y_lims[1], color = \"grey\", alpha = 0.3, lw = 0.5)\n",
    "ax.vlines(x5, 0, y_lims[1], color = \"grey\", alpha = 0.3, lw = 0.5)\n",
    "ax.vlines(x6, 0, y_lims[1], color = \"grey\", alpha = 0.3, lw = 0.5)\n",
    "ax.set_xticklabels(['1月','2月','3月','4月','5月','6月'])\n",
    "plt.xticks(fontsize=15)\n",
    "plt.yticks(fontsize=15)\n",
    "plt.xlabel(\"月份\", font2)\n",
    "plt.ylabel(\"得分\", font2)\n",
    "ax.spines[\"left\"].set_color(\"None\")\n",
    "ax.spines[\"right\"].set_color(\"None\")\n",
    "ax.spines[\"top\"].set_color(\"None\")\n",
    "ax.spines[\"bottom\"].set_color(\"None\")\n",
    "plt.savefig(\"第三问16月得分图.png\", dpi=300)"
   ]
  },
  {
   "cell_type": "code",
   "execution_count": 752,
   "metadata": {},
   "outputs": [
    {
     "data": {
      "image/png": "[encoded data removed]",
      "text/plain": [
       "<Figure size 576x864 with 1 Axes>"
      ]
     },
     "metadata": {
      "needs_background": "light"
     },
     "output_type": "display_data"
    }
   ],
   "source": [
    "data2.index = ['B','C','D','E']\n",
    "# instanciate the figure\n",
    "fig = plt.figure(figsize = (8, 12))\n",
    "ax = fig.add_subplot()\n",
    "\n",
    "data2[\"color1\"] = data2.apply(lambda row: \"green\" if row[\"8\"] >= row[\"7\"] else \"red\", axis = 1)\n",
    "# ----------------------------------------------------------------------------------------------------\n",
    "# plot the data\n",
    "for cont in data2.index:\n",
    "    x1 = '7'\n",
    "    y1 = data2['7'][cont]\n",
    "    x2 = '8'\n",
    "    y2 = data2['8'][cont]\n",
    "    # df[\"color\"] = df.apply(lambda row: \"green\" if row[\"1957\"] >= row[\"1952\"] else \"red\", axis = 1)\n",
    "    # color = df[df[\"continent\"] == cont][\"color\"]\n",
    "    color1 = data2[data2.index == cont][\"color1\"]\n",
    "    \n",
    "    ax.scatter(x1, y1, s=200, color=color1)\n",
    "    ax.scatter(x2, y2, s=200, color=color1)\n",
    "    # connect the starting point and the ending point with a line\n",
    "    # check the bouns section for more\n",
    "    ax.plot([x1,x2],[float(y1),float(y2)], linestyle=\"-\", color = color1.values[0])\n",
    "#     if cont == 1:\n",
    "#         ax.text(0 - 0.05, y1-0.1, r'{}:{:.2f}'.format('A', y1), horizontalalignment = 'right', verticalalignment = 'center', fontdict = {'size':15})\n",
    "#         ax.text(1 - 0.05, y2-0.1, r'{}:{:.2f}'.format('B', y2), horizontalalignment = 'right', verticalalignment = 'center', fontdict = {'size':15})\n",
    "#         ax.text(2 - 0.05, y3-0.1, r'{}:{:.2f}'.format('C', y3), horizontalalignment = 'right', verticalalignment = 'center', fontdict = {'size':15})\n",
    "#         ax.text(3 - 0.05, y4-0.1, r'{}:{:.2f}'.format('D', y4), horizontalalignment = 'right', verticalalignment = 'center', fontdict = {'size':15})\n",
    "#         ax.text(4 - 0.05, y5-0.1, r'{}:{:.2f}'.format('E', y5), horizontalalignment = 'right', verticalalignment = 'center', fontdict = {'size':15})\n",
    "#     else:\n",
    "    ax.text(ax.get_xlim()[0] - 0.05, y1, r'{}:{:.2f}'.format(cont, y1), horizontalalignment = 'right', verticalalignment = 'center', fontdict = {'size':15})\n",
    "    ax.text(ax.get_xlim()[1] - 0.05, y2, r'{}:{:.2f}'.format(cont, y2), horizontalalignment = 'right', verticalalignment = 'center', fontdict = {'size':15})\n",
    "    # annotate the value for each continent\n",
    "    # ax.text(ax.get_xlim()[0] - 0.05, y_start, r'{}:{}k'.format(cont, int(y_start)/1000), horizontalalignment = 'right', verticalalignment = 'center', fontdict = {'size':8})\n",
    "    # ax.text(ax.get_xlim()[1] + 0.05, y_finish, r'{}:{}k'.format(cont, int(y_finish)/1000), horizontalalignment = 'left', verticalalignment = 'center', fontdict = {'size':8})\n",
    "\n",
    "# ----------------------------------------------------------------------------------------------------\n",
    "# prettify the plot\n",
    "\n",
    "# get the x and y limits\n",
    "x_lims = ax.get_xlim()\n",
    "y_lims = ax.get_ylim()\n",
    "\n",
    "# change the x and y limits programmaticaly\n",
    "ax.set_xlim(x_lims[0] - 1, x_lims[1] + 1);\n",
    "ax.set_ylim(y_lims[0]-0.1, y_lims[1]+0.1)\n",
    "# add 2 vertical lines\n",
    "ax.vlines(x1, 0, y_lims[1], color = \"grey\", alpha = 0.3, lw = 0.5)\n",
    "ax.vlines(x2, 0, y_lims[1], color = \"grey\", alpha = 0.3, lw = 0.5)\n",
    "ax.set_xticklabels(['7月','8月'])\n",
    "plt.xticks(fontsize=15)\n",
    "plt.yticks(fontsize=15)\n",
    "plt.xlabel(\"月份\", font2)\n",
    "plt.ylabel(\"得分\", font2)\n",
    "ax.spines[\"left\"].set_color(\"None\")\n",
    "ax.spines[\"right\"].set_color(\"None\")\n",
    "ax.spines[\"top\"].set_color(\"None\")\n",
    "ax.spines[\"bottom\"].set_color(\"None\")\n",
    "plt.savefig(\"第三问78月得分图.png\", dpi=300)"
   ]
  },
  {
   "cell_type": "code",
   "execution_count": null,
   "metadata": {},
   "outputs": [],
   "source": [
    "# instanciate the figure\n",
    "fig = plt.figure(figsize = (22, 10))\n",
    "ax = fig.add_subplot()\n",
    "\n",
    "data2[\"color1\"] = data2.apply(lambda row: \"green\" if row[\"2\"] >= row[\"1\"] else \"red\", axis = 1)\n",
    "# ----------------------------------------------------------------------------------------------------\n",
    "# plot the data\n",
    "for cont in data2.index:\n",
    "    x1 = ''\n",
    "    y1 = data2['1'][cont]\n",
    "    x2 = '2'\n",
    "    y2 = data1['2'][cont]\n",
    "\n",
    "    # df[\"color\"] = df.apply(lambda row: \"green\" if row[\"1957\"] >= row[\"1952\"] else \"red\", axis = 1)\n",
    "    # color = df[df[\"continent\"] == cont][\"color\"]\n",
    "    color1 = data1[data1.index == cont][\"color1\"]\n",
    "    \n",
    "    ax.scatter(x1, y1, c=\"orange\", s=200)\n",
    "    ax.scatter(x2, y2, c=\"orange\", s=200)\n",
    "    ax.scatter(x3, y3, c=\"orange\", s=200)\n",
    "    ax.scatter(x4, y4, c=\"orange\", s=200)\n",
    "    ax.scatter(x5, y5, c=\"orange\", s=200)\n",
    "    \n",
    "    # connect the starting point and the ending point with a line\n",
    "    # check the bouns section for more\n",
    "    ax.plot([x1,x2],[float(y1),float(y2)], linestyle=\"-\", color = color1.values[0])\n",
    "    ax.plot([x2,x3],[float(y2),float(y3)], linestyle=\"-\", color = color2.values[0])\n",
    "    ax.plot([x3,x4],[float(y3),float(y4)], linestyle=\"-\", color = color3.values[0])\n",
    "    ax.plot([x4,x5],[float(y4),float(y5)], linestyle=\"-\", color = color4.values[0])\n",
    "#     if cont == 1:\n",
    "#         ax.text(0 - 0.05, y1-0.1, r'{}:{:.2f}'.format('A', y1), horizontalalignment = 'right', verticalalignment = 'center', fontdict = {'size':15})\n",
    "#         ax.text(1 - 0.05, y2-0.1, r'{}:{:.2f}'.format('B', y2), horizontalalignment = 'right', verticalalignment = 'center', fontdict = {'size':15})\n",
    "#         ax.text(2 - 0.05, y3-0.1, r'{}:{:.2f}'.format('C', y3), horizontalalignment = 'right', verticalalignment = 'center', fontdict = {'size':15})\n",
    "#         ax.text(3 - 0.05, y4-0.1, r'{}:{:.2f}'.format('D', y4), horizontalalignment = 'right', verticalalignment = 'center', fontdict = {'size':15})\n",
    "#         ax.text(4 - 0.05, y5-0.1, r'{}:{:.2f}'.format('E', y5), horizontalalignment = 'right', verticalalignment = 'center', fontdict = {'size':15})\n",
    "#     else:\n",
    "    ax.text(0 - 0.05, y1, r'{}:{:.2f}'.format('A', y1), horizontalalignment = 'right', verticalalignment = 'center', fontdict = {'size':15})\n",
    "    ax.text(1 - 0.05, y2, r'{}:{:.2f}'.format('B', y2), horizontalalignment = 'right', verticalalignment = 'center', fontdict = {'size':15})\n",
    "    ax.text(2 - 0.05, y3, r'{}:{:.2f}'.format('C', y3), horizontalalignment = 'right', verticalalignment = 'center', fontdict = {'size':15})\n",
    "    ax.text(3 - 0.05, y4, r'{}:{:.2f}'.format('D', y4), horizontalalignment = 'right', verticalalignment = 'center', fontdict = {'size':15})\n",
    "    ax.text(4 - 0.05, y5, r'{}:{:.2f}'.format('E', y5), horizontalalignment = 'right', verticalalignment = 'center', fontdict = {'size':15})\n",
    "    # annotate the value for each continent\n",
    "    # ax.text(ax.get_xlim()[0] - 0.05, y_start, r'{}:{}k'.format(cont, int(y_start)/1000), horizontalalignment = 'right', verticalalignment = 'center', fontdict = {'size':8})\n",
    "    # ax.text(ax.get_xlim()[1] + 0.05, y_finish, r'{}:{}k'.format(cont, int(y_finish)/1000), horizontalalignment = 'left', verticalalignment = 'center', fontdict = {'size':8})\n",
    "\n",
    "# ----------------------------------------------------------------------------------------------------\n",
    "# prettify the plot\n",
    "\n",
    "# get the x and y limits\n",
    "x_lims = ax.get_xlim()\n",
    "y_lims = ax.get_ylim()\n",
    "\n",
    "# change the x and y limits programmaticaly\n",
    "ax.set_xlim(x_lims[0] - 1, x_lims[1] + 1);\n",
    "ax.set_ylim(1.5, 4)\n",
    "# add 2 vertical lines\n",
    "ax.vlines(x1, 0, y_lims[1], color = \"grey\", alpha = 0.3, lw = 0.5)\n",
    "ax.vlines(x2, 0, y_lims[1], color = \"grey\", alpha = 0.3, lw = 0.5)\n",
    "ax.vlines(x3, 0, y_lims[1], color = \"grey\", alpha = 0.3, lw = 0.5)\n",
    "ax.vlines(x4, 0, y_lims[1], color = \"grey\", alpha = 0.3, lw = 0.5)\n",
    "ax.vlines(x5, 0, y_lims[1], color = \"grey\", alpha = 0.3, lw = 0.5)\n",
    "ax.set_xticklabels(['1月','2月','3月','4月','5月'])\n",
    "plt.xticks(fontsize=15)\n",
    "plt.yticks(fontsize=15)\n",
    "ax.spines[\"left\"].set_color(\"None\")\n",
    "ax.spines[\"right\"].set_color(\"None\")\n",
    "ax.spines[\"top\"].set_color(\"None\")\n",
    "ax.spines[\"bottom\"].set_color(\"None\")\n",
    "plt.savefig(\"第三问16月得分图.png\", dpi=300)"
   ]
  },
  {
   "cell_type": "code",
   "execution_count": 765,
   "metadata": {},
   "outputs": [],
   "source": [
    "timing = pd.read_excel(\"时间系数.xlsx\", header=None, names=total_df.columns[:6])\n",
    "timing.drop(['生化需氧量','氨氮','石油类','挥发酚'], axis=1, inplace=True)"
   ]
  },
  {
   "cell_type": "code",
   "execution_count": 766,
   "metadata": {},
   "outputs": [
    {
     "data": {
      "text/html": [
       "<div>\n",
       "<style scoped>\n",
       "    .dataframe tbody tr th:only-of-type {\n",
       "        vertical-align: middle;\n",
       "    }\n",
       "\n",
       "    .dataframe tbody tr th {\n",
       "        vertical-align: top;\n",
       "    }\n",
       "\n",
       "    .dataframe thead th {\n",
       "        text-align: right;\n",
       "    }\n",
       "</style>\n",
       "<table border=\"1\" class=\"dataframe\">\n",
       "  <thead>\n",
       "    <tr style=\"text-align: right;\">\n",
       "      <th></th>\n",
       "      <th>溶解氧</th>\n",
       "      <th>高锰酸盐指数</th>\n",
       "    </tr>\n",
       "  </thead>\n",
       "  <tbody>\n",
       "    <tr>\n",
       "      <th>0</th>\n",
       "      <td>1.774932</td>\n",
       "      <td>-3.346221</td>\n",
       "    </tr>\n",
       "    <tr>\n",
       "      <th>1</th>\n",
       "      <td>-1.694067</td>\n",
       "      <td>0.596557</td>\n",
       "    </tr>\n",
       "    <tr>\n",
       "      <th>2</th>\n",
       "      <td>2.184620</td>\n",
       "      <td>0.769160</td>\n",
       "    </tr>\n",
       "    <tr>\n",
       "      <th>3</th>\n",
       "      <td>6.010957</td>\n",
       "      <td>-1.361684</td>\n",
       "    </tr>\n",
       "    <tr>\n",
       "      <th>4</th>\n",
       "      <td>3.133891</td>\n",
       "      <td>-0.212172</td>\n",
       "    </tr>\n",
       "    <tr>\n",
       "      <th>5</th>\n",
       "      <td>-0.791382</td>\n",
       "      <td>-1.877734</td>\n",
       "    </tr>\n",
       "  </tbody>\n",
       "</table>\n",
       "</div>"
      ],
      "text/plain": [
       "        溶解氧    高锰酸盐指数\n",
       "0  1.774932 -3.346221\n",
       "1 -1.694067  0.596557\n",
       "2  2.184620  0.769160\n",
       "3  6.010957 -1.361684\n",
       "4  3.133891 -0.212172\n",
       "5 -0.791382 -1.877734"
      ]
     },
     "execution_count": 766,
     "metadata": {},
     "output_type": "execute_result"
    }
   ],
   "source": [
    "timing"
   ]
  },
  {
   "cell_type": "code",
   "execution_count": 774,
   "metadata": {},
   "outputs": [],
   "source": [
    "font1 = {'family' : 'SimHei',\n",
    "'weight' : 'normal',\n",
    "'size' : 15,\n",
    "}"
   ]
  },
  {
   "cell_type": "code",
   "execution_count": 782,
   "metadata": {},
   "outputs": [
    {
     "data": {
      "image/png": "[encoded data removed]",
      "text/plain": [
       "<Figure size 1152x720 with 2 Axes>"
      ]
     },
     "metadata": {
      "needs_background": "light"
     },
     "output_type": "display_data"
    }
   ],
   "source": [
    "fig = plt.figure(figsize=(16, 10))\n",
    "gx = fig.add_gridspec(1,2)\n",
    "for idx, col in enumerate(timing.columns):\n",
    "    ax = fig.add_subplot(gx[0, idx])\n",
    "    h = sns.lineplot(['1月','2月','3月','4月','5月','6月'], timing[col], ax=ax, color=\"black\")\n",
    "    plt.ylabel(col, font1)\n",
    "    plt.yticks(fontsize=15)\n",
    "    ax.set_xticklabels(['1月','2月','3月','4月','5月','6月'], font1)\n",
    "    ax.grid(alpha = 0.3)\n",
    "    ax.fill_between([0,1,2,3,4,5], 0, timing[col], where = 0 > timing[col], facecolor='red', interpolate = True, alpha = 0.3)\n",
    "    ax.fill_between([0,1,2,3,4,5], 0, timing[col], where = 0 <= timing[col], facecolor='green', interpolate = True, alpha = 0.3)\n",
    "plt.savefig(\"时间系数.png\", dpi=300)"
   ]
  },
  {
   "cell_type": "code",
   "execution_count": 783,
   "metadata": {},
   "outputs": [
    {
     "data": {
      "text/html": [
       "<div>\n",
       "<style scoped>\n",
       "    .dataframe tbody tr th:only-of-type {\n",
       "        vertical-align: middle;\n",
       "    }\n",
       "\n",
       "    .dataframe tbody tr th {\n",
       "        vertical-align: top;\n",
       "    }\n",
       "\n",
       "    .dataframe thead th {\n",
       "        text-align: right;\n",
       "    }\n",
       "</style>\n",
       "<table border=\"1\" class=\"dataframe\">\n",
       "  <thead>\n",
       "    <tr style=\"text-align: right;\">\n",
       "      <th></th>\n",
       "      <th>feature</th>\n",
       "      <th>Ⅰ类</th>\n",
       "      <th>Ⅱ类</th>\n",
       "      <th>Ⅲ类</th>\n",
       "      <th>Ⅳ类</th>\n",
       "      <th>Ⅴ类</th>\n",
       "    </tr>\n",
       "  </thead>\n",
       "  <tbody>\n",
       "    <tr>\n",
       "      <th>0</th>\n",
       "      <td>溶解氧</td>\n",
       "      <td>7.50000</td>\n",
       "      <td>6.00000</td>\n",
       "      <td>5.0000</td>\n",
       "      <td>3.000</td>\n",
       "      <td>2.000</td>\n",
       "    </tr>\n",
       "    <tr>\n",
       "      <th>1</th>\n",
       "      <td>高锰酸盐指数</td>\n",
       "      <td>2.00000</td>\n",
       "      <td>4.00000</td>\n",
       "      <td>6.0000</td>\n",
       "      <td>10.000</td>\n",
       "      <td>15.000</td>\n",
       "    </tr>\n",
       "    <tr>\n",
       "      <th>2</th>\n",
       "      <td>化学需氧量</td>\n",
       "      <td>15.00000</td>\n",
       "      <td>15.00000</td>\n",
       "      <td>20.0000</td>\n",
       "      <td>30.000</td>\n",
       "      <td>40.000</td>\n",
       "    </tr>\n",
       "    <tr>\n",
       "      <th>3</th>\n",
       "      <td>生化需氧量</td>\n",
       "      <td>3.00000</td>\n",
       "      <td>3.00000</td>\n",
       "      <td>34.0000</td>\n",
       "      <td>6.000</td>\n",
       "      <td>10.000</td>\n",
       "    </tr>\n",
       "    <tr>\n",
       "      <th>4</th>\n",
       "      <td>氨氮</td>\n",
       "      <td>0.15000</td>\n",
       "      <td>0.50000</td>\n",
       "      <td>1.0000</td>\n",
       "      <td>1.500</td>\n",
       "      <td>2.000</td>\n",
       "    </tr>\n",
       "    <tr>\n",
       "      <th>5</th>\n",
       "      <td>总磷</td>\n",
       "      <td>0.02000</td>\n",
       "      <td>0.10000</td>\n",
       "      <td>0.2000</td>\n",
       "      <td>0.300</td>\n",
       "      <td>0.400</td>\n",
       "    </tr>\n",
       "    <tr>\n",
       "      <th>6</th>\n",
       "      <td>铜</td>\n",
       "      <td>0.10000</td>\n",
       "      <td>1.00000</td>\n",
       "      <td>1.0000</td>\n",
       "      <td>1.000</td>\n",
       "      <td>1.000</td>\n",
       "    </tr>\n",
       "    <tr>\n",
       "      <th>7</th>\n",
       "      <td>锌</td>\n",
       "      <td>0.05000</td>\n",
       "      <td>1.00000</td>\n",
       "      <td>1.0000</td>\n",
       "      <td>2.000</td>\n",
       "      <td>2.000</td>\n",
       "    </tr>\n",
       "    <tr>\n",
       "      <th>8</th>\n",
       "      <td>氟化物</td>\n",
       "      <td>1.00000</td>\n",
       "      <td>1.00000</td>\n",
       "      <td>1.0000</td>\n",
       "      <td>1.500</td>\n",
       "      <td>1.500</td>\n",
       "    </tr>\n",
       "    <tr>\n",
       "      <th>9</th>\n",
       "      <td>硒</td>\n",
       "      <td>0.01000</td>\n",
       "      <td>0.01000</td>\n",
       "      <td>0.0100</td>\n",
       "      <td>0.020</td>\n",
       "      <td>0.020</td>\n",
       "    </tr>\n",
       "    <tr>\n",
       "      <th>10</th>\n",
       "      <td>砷</td>\n",
       "      <td>0.05000</td>\n",
       "      <td>0.05000</td>\n",
       "      <td>0.0500</td>\n",
       "      <td>0.100</td>\n",
       "      <td>0.100</td>\n",
       "    </tr>\n",
       "    <tr>\n",
       "      <th>11</th>\n",
       "      <td>汞</td>\n",
       "      <td>0.00005</td>\n",
       "      <td>0.00005</td>\n",
       "      <td>0.0001</td>\n",
       "      <td>0.001</td>\n",
       "      <td>0.001</td>\n",
       "    </tr>\n",
       "    <tr>\n",
       "      <th>12</th>\n",
       "      <td>镉</td>\n",
       "      <td>0.00100</td>\n",
       "      <td>0.00500</td>\n",
       "      <td>0.0050</td>\n",
       "      <td>0.005</td>\n",
       "      <td>0.010</td>\n",
       "    </tr>\n",
       "    <tr>\n",
       "      <th>13</th>\n",
       "      <td>六价铬</td>\n",
       "      <td>0.01000</td>\n",
       "      <td>0.05000</td>\n",
       "      <td>0.0500</td>\n",
       "      <td>0.050</td>\n",
       "      <td>0.100</td>\n",
       "    </tr>\n",
       "    <tr>\n",
       "      <th>14</th>\n",
       "      <td>铅</td>\n",
       "      <td>0.01000</td>\n",
       "      <td>0.01000</td>\n",
       "      <td>0.0500</td>\n",
       "      <td>0.050</td>\n",
       "      <td>0.100</td>\n",
       "    </tr>\n",
       "    <tr>\n",
       "      <th>15</th>\n",
       "      <td>氰化物</td>\n",
       "      <td>0.00500</td>\n",
       "      <td>0.05000</td>\n",
       "      <td>0.2000</td>\n",
       "      <td>0.200</td>\n",
       "      <td>0.200</td>\n",
       "    </tr>\n",
       "    <tr>\n",
       "      <th>16</th>\n",
       "      <td>挥发酚</td>\n",
       "      <td>0.00200</td>\n",
       "      <td>0.00200</td>\n",
       "      <td>0.0050</td>\n",
       "      <td>0.010</td>\n",
       "      <td>0.100</td>\n",
       "    </tr>\n",
       "    <tr>\n",
       "      <th>17</th>\n",
       "      <td>石油类</td>\n",
       "      <td>0.05000</td>\n",
       "      <td>0.05000</td>\n",
       "      <td>0.0500</td>\n",
       "      <td>0.500</td>\n",
       "      <td>1.000</td>\n",
       "    </tr>\n",
       "    <tr>\n",
       "      <th>18</th>\n",
       "      <td>阴离子表面活性剂</td>\n",
       "      <td>0.20000</td>\n",
       "      <td>0.20000</td>\n",
       "      <td>0.2000</td>\n",
       "      <td>0.300</td>\n",
       "      <td>0.300</td>\n",
       "    </tr>\n",
       "    <tr>\n",
       "      <th>19</th>\n",
       "      <td>硫化物</td>\n",
       "      <td>0.05000</td>\n",
       "      <td>0.10000</td>\n",
       "      <td>0.2000</td>\n",
       "      <td>0.500</td>\n",
       "      <td>1.000</td>\n",
       "    </tr>\n",
       "  </tbody>\n",
       "</table>\n",
       "</div>"
      ],
      "text/plain": [
       "     feature        Ⅰ类        Ⅱ类       Ⅲ类      Ⅳ类      Ⅴ类\n",
       "0        溶解氧   7.50000   6.00000   5.0000   3.000   2.000\n",
       "1     高锰酸盐指数   2.00000   4.00000   6.0000  10.000  15.000\n",
       "2      化学需氧量  15.00000  15.00000  20.0000  30.000  40.000\n",
       "3      生化需氧量   3.00000   3.00000  34.0000   6.000  10.000\n",
       "4         氨氮   0.15000   0.50000   1.0000   1.500   2.000\n",
       "5         总磷   0.02000   0.10000   0.2000   0.300   0.400\n",
       "6          铜   0.10000   1.00000   1.0000   1.000   1.000\n",
       "7          锌   0.05000   1.00000   1.0000   2.000   2.000\n",
       "8        氟化物   1.00000   1.00000   1.0000   1.500   1.500\n",
       "9          硒   0.01000   0.01000   0.0100   0.020   0.020\n",
       "10         砷   0.05000   0.05000   0.0500   0.100   0.100\n",
       "11         汞   0.00005   0.00005   0.0001   0.001   0.001\n",
       "12         镉   0.00100   0.00500   0.0050   0.005   0.010\n",
       "13       六价铬   0.01000   0.05000   0.0500   0.050   0.100\n",
       "14         铅   0.01000   0.01000   0.0500   0.050   0.100\n",
       "15       氰化物   0.00500   0.05000   0.2000   0.200   0.200\n",
       "16       挥发酚   0.00200   0.00200   0.0050   0.010   0.100\n",
       "17       石油类   0.05000   0.05000   0.0500   0.500   1.000\n",
       "18  阴离子表面活性剂   0.20000   0.20000   0.2000   0.300   0.300\n",
       "19       硫化物   0.05000   0.10000   0.2000   0.500   1.000"
      ]
     },
     "execution_count": 783,
     "metadata": {},
     "output_type": "execute_result"
    }
   ],
   "source": [
    "gbdata"
   ]
  },
  {
   "cell_type": "code",
   "execution_count": 792,
   "metadata": {},
   "outputs": [
    {
     "data": {
      "text/plain": [
       "1.0"
      ]
     },
     "execution_count": 792,
     "metadata": {},
     "output_type": "execute_result"
    }
   ],
   "source": [
    "gbdata.loc[gbdata['feature']=='硫化物']['Ⅴ类'].values[0]"
   ]
  },
  {
   "cell_type": "code",
   "execution_count": 797,
   "metadata": {},
   "outputs": [],
   "source": [
    "per = []\n",
    "for col in total_df.columns:\n",
    "    if col != '溶解氧':\n",
    "        temp = sum(total_df[col].values > gbdata.loc[gbdata['feature']==col]['Ⅲ类'].values[0])/len(total_df)\n",
    "        per.append(temp)\n",
    "    else:\n",
    "        temp = sum(total_df[col].values < gbdata.loc[gbdata['feature']==col]['Ⅲ类'].values[0])/len(total_df)\n",
    "        per.append(temp)"
   ]
  },
  {
   "cell_type": "code",
   "execution_count": 810,
   "metadata": {},
   "outputs": [
    {
     "ename": "KeyError",
     "evalue": "\"None of ['feature'] are in the columns\"",
     "output_type": "error",
     "traceback": [
      "\u001b[1;31m---------------------------------------------------------------------------\u001b[0m",
      "\u001b[1;31mKeyError\u001b[0m                                  Traceback (most recent call last)",
      "\u001b[1;32m<ipython-input-810-9302ce8bbbd7>\u001b[0m in \u001b[0;36m<module>\u001b[1;34m\u001b[0m\n\u001b[0;32m      1\u001b[0m \u001b[0mgbdata3\u001b[0m \u001b[1;33m=\u001b[0m \u001b[0mgbdata\u001b[0m\u001b[1;33m\u001b[0m\u001b[1;33m\u001b[0m\u001b[0m\n\u001b[0;32m      2\u001b[0m \u001b[0mgbdata3\u001b[0m\u001b[1;33m[\u001b[0m\u001b[1;34m'per'\u001b[0m\u001b[1;33m]\u001b[0m \u001b[1;33m=\u001b[0m \u001b[0mper\u001b[0m\u001b[1;33m\u001b[0m\u001b[1;33m\u001b[0m\u001b[0m\n\u001b[1;32m----> 3\u001b[1;33m \u001b[0mgbdata3\u001b[0m\u001b[1;33m.\u001b[0m\u001b[0mset_index\u001b[0m\u001b[1;33m(\u001b[0m\u001b[1;34m'feature'\u001b[0m\u001b[1;33m,\u001b[0m \u001b[0minplace\u001b[0m\u001b[1;33m=\u001b[0m\u001b[1;32mTrue\u001b[0m\u001b[1;33m)\u001b[0m\u001b[1;33m\u001b[0m\u001b[1;33m\u001b[0m\u001b[0m\n\u001b[0m\u001b[0;32m      4\u001b[0m \u001b[0mgbdata3\u001b[0m \u001b[1;33m=\u001b[0m \u001b[0mgbdata3\u001b[0m\u001b[1;33m[\u001b[0m\u001b[0mgbdata3\u001b[0m\u001b[1;33m.\u001b[0m\u001b[0mper\u001b[0m \u001b[1;33m!=\u001b[0m \u001b[1;36m0\u001b[0m\u001b[1;33m]\u001b[0m\u001b[1;33m\u001b[0m\u001b[1;33m\u001b[0m\u001b[0m\n",
      "\u001b[1;32mc:\\users\\glaucous\\anaconda3\\envs\\gluon\\lib\\site-packages\\pandas\\core\\frame.py\u001b[0m in \u001b[0;36mset_index\u001b[1;34m(self, keys, drop, append, inplace, verify_integrity)\u001b[0m\n\u001b[0;32m   4301\u001b[0m \u001b[1;33m\u001b[0m\u001b[0m\n\u001b[0;32m   4302\u001b[0m         \u001b[1;32mif\u001b[0m \u001b[0mmissing\u001b[0m\u001b[1;33m:\u001b[0m\u001b[1;33m\u001b[0m\u001b[1;33m\u001b[0m\u001b[0m\n\u001b[1;32m-> 4303\u001b[1;33m             \u001b[1;32mraise\u001b[0m \u001b[0mKeyError\u001b[0m\u001b[1;33m(\u001b[0m\u001b[1;34mf\"None of {missing} are in the columns\"\u001b[0m\u001b[1;33m)\u001b[0m\u001b[1;33m\u001b[0m\u001b[1;33m\u001b[0m\u001b[0m\n\u001b[0m\u001b[0;32m   4304\u001b[0m \u001b[1;33m\u001b[0m\u001b[0m\n\u001b[0;32m   4305\u001b[0m         \u001b[1;32mif\u001b[0m \u001b[0minplace\u001b[0m\u001b[1;33m:\u001b[0m\u001b[1;33m\u001b[0m\u001b[1;33m\u001b[0m\u001b[0m\n",
      "\u001b[1;31mKeyError\u001b[0m: \"None of ['feature'] are in the columns\""
     ]
    }
   ],
   "source": [
    "gbdata3 = gbdata\n",
    "gbdata3['per'] = per\n",
    "gbdata3.set_index('feature', inplace=True)\n"
   ]
  },
  {
   "cell_type": "code",
   "execution_count": 813,
   "metadata": {},
   "outputs": [],
   "source": [
    "gbdata3 = gbdata3[gbdata3.per != 0]"
   ]
  },
  {
   "cell_type": "code",
   "execution_count": 814,
   "metadata": {},
   "outputs": [
    {
     "data": {
      "text/html": [
       "<div>\n",
       "<style scoped>\n",
       "    .dataframe tbody tr th:only-of-type {\n",
       "        vertical-align: middle;\n",
       "    }\n",
       "\n",
       "    .dataframe tbody tr th {\n",
       "        vertical-align: top;\n",
       "    }\n",
       "\n",
       "    .dataframe thead th {\n",
       "        text-align: right;\n",
       "    }\n",
       "</style>\n",
       "<table border=\"1\" class=\"dataframe\">\n",
       "  <thead>\n",
       "    <tr style=\"text-align: right;\">\n",
       "      <th></th>\n",
       "      <th>Ⅰ类</th>\n",
       "      <th>Ⅱ类</th>\n",
       "      <th>Ⅲ类</th>\n",
       "      <th>Ⅳ类</th>\n",
       "      <th>Ⅴ类</th>\n",
       "      <th>per</th>\n",
       "    </tr>\n",
       "    <tr>\n",
       "      <th>feature</th>\n",
       "      <th></th>\n",
       "      <th></th>\n",
       "      <th></th>\n",
       "      <th></th>\n",
       "      <th></th>\n",
       "      <th></th>\n",
       "    </tr>\n",
       "  </thead>\n",
       "  <tbody>\n",
       "    <tr>\n",
       "      <th>溶解氧</th>\n",
       "      <td>7.50</td>\n",
       "      <td>6.00</td>\n",
       "      <td>5.00</td>\n",
       "      <td>3.00</td>\n",
       "      <td>2.00</td>\n",
       "      <td>0.026316</td>\n",
       "    </tr>\n",
       "    <tr>\n",
       "      <th>生化需氧量</th>\n",
       "      <td>3.00</td>\n",
       "      <td>3.00</td>\n",
       "      <td>34.00</td>\n",
       "      <td>6.00</td>\n",
       "      <td>10.00</td>\n",
       "      <td>0.315789</td>\n",
       "    </tr>\n",
       "    <tr>\n",
       "      <th>氟化物</th>\n",
       "      <td>1.00</td>\n",
       "      <td>1.00</td>\n",
       "      <td>1.00</td>\n",
       "      <td>1.50</td>\n",
       "      <td>1.50</td>\n",
       "      <td>0.473684</td>\n",
       "    </tr>\n",
       "    <tr>\n",
       "      <th>硒</th>\n",
       "      <td>0.01</td>\n",
       "      <td>0.01</td>\n",
       "      <td>0.01</td>\n",
       "      <td>0.02</td>\n",
       "      <td>0.02</td>\n",
       "      <td>0.210526</td>\n",
       "    </tr>\n",
       "  </tbody>\n",
       "</table>\n",
       "</div>"
      ],
      "text/plain": [
       "           Ⅰ类    Ⅱ类     Ⅲ类    Ⅳ类     Ⅴ类       per\n",
       "feature                                          \n",
       "溶解氧      7.50  6.00   5.00  3.00   2.00  0.026316\n",
       "生化需氧量    3.00  3.00  34.00  6.00  10.00  0.315789\n",
       "氟化物      1.00  1.00   1.00  1.50   1.50  0.473684\n",
       "硒        0.01  0.01   0.01  0.02   0.02  0.210526"
      ]
     },
     "execution_count": 814,
     "metadata": {},
     "output_type": "execute_result"
    }
   ],
   "source": [
    "gbdata3"
   ]
  },
  {
   "cell_type": "code",
   "execution_count": 823,
   "metadata": {},
   "outputs": [
    {
     "data": {
      "text/plain": [
       "<Figure size 1080x1080 with 0 Axes>"
      ]
     },
     "metadata": {},
     "output_type": "display_data"
    },
    {
     "data": {
      "image/png": "[encoded data removed]",
      "text/plain": [
       "<Figure size 1440x720 with 1 Axes>"
      ]
     },
     "metadata": {},
     "output_type": "display_data"
    }
   ],
   "source": [
    "fig = plt.figure(figsize=((15, 15)))\n",
    "label_value = gbdata3[\"per\"].to_dict()\n",
    "\n",
    "# create the labels using a list comprehesion\n",
    "labels = [\"{}占比{:.2f}%\".format(class_, obs*100) for class_, obs in label_value.items()]\n",
    "\n",
    "# create n colors based on the number of labels we have\n",
    "colors = [plt.cm.Spectral(i/float(len(labels))) for i in range(len(labels))]\n",
    "\n",
    "# ----------------------------------------------------------------------------------------------------\n",
    "# instanciate the figure\n",
    "plt.figure(figsize = (20, 10))\n",
    "\n",
    "# ----------------------------------------------------------------------------------------------------\n",
    "# plot the data using squarify\n",
    "squarify.plot(sizes = label_value.values(), label = labels,  color = colors, alpha = 0.8)\n",
    "\n",
    "# ----------------------------------------------------------------------------------------------------\n",
    "# prettify the plot\n",
    "# add a title to the plot\n",
    "plt.savefig(\"第一问超标的指标.png\", dpi=300)"
   ]
  },
  {
   "cell_type": "code",
   "execution_count": 827,
   "metadata": {},
   "outputs": [
    {
     "data": {
      "text/html": [
       "<div style=\"width:100%;\"><div style=\"position:relative;width:100%;height:0;padding-bottom:60%;\"><span style=\"color:#565656\">Make this Notebook Trusted to load map: File -> Trust Notebook</span><iframe src=\"about:blank\" style=\"position:absolute;width:100%;height:100%;left:0;top:0;border:none !important;\" data-html=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 onload=\"this.contentDocument.open();this.contentDocument.write(atob(this.getAttribute('data-html')));this.contentDocument.close();\" allowfullscreen webkitallowfullscreen mozallowfullscreen></iframe></div></div>"
      ],
      "text/plain": [
       "<folium.folium.Map at 0x2045236e2b0>"
      ]
     },
     "execution_count": 827,
     "metadata": {},
     "output_type": "execute_result"
    }
   ],
   "source": [
    "import folium\n",
    "Map = folium.Map(location=[38.46, 106.26], zoom_start=12, tiles=\"Stamen Terrain\")\n",
    "Map"
   ]
  },
  {
   "cell_type": "code",
   "execution_count": 828,
   "metadata": {},
   "outputs": [
    {
     "data": {
      "text/html": [
       "<div>\n",
       "<style scoped>\n",
       "    .dataframe tbody tr th:only-of-type {\n",
       "        vertical-align: middle;\n",
       "    }\n",
       "\n",
       "    .dataframe tbody tr th {\n",
       "        vertical-align: top;\n",
       "    }\n",
       "\n",
       "    .dataframe thead th {\n",
       "        text-align: right;\n",
       "    }\n",
       "</style>\n",
       "<table border=\"1\" class=\"dataframe\">\n",
       "  <thead>\n",
       "    <tr style=\"text-align: right;\">\n",
       "      <th></th>\n",
       "      <th>溶解氧</th>\n",
       "      <th>高锰酸盐指数</th>\n",
       "    </tr>\n",
       "  </thead>\n",
       "  <tbody>\n",
       "    <tr>\n",
       "      <th>0</th>\n",
       "      <td>-0.754962</td>\n",
       "      <td>-0.324077</td>\n",
       "    </tr>\n",
       "    <tr>\n",
       "      <th>1</th>\n",
       "      <td>-0.215168</td>\n",
       "      <td>-0.504679</td>\n",
       "    </tr>\n",
       "    <tr>\n",
       "      <th>2</th>\n",
       "      <td>0.224525</td>\n",
       "      <td>-0.009094</td>\n",
       "    </tr>\n",
       "    <tr>\n",
       "      <th>3</th>\n",
       "      <td>0.206430</td>\n",
       "      <td>0.799184</td>\n",
       "    </tr>\n",
       "    <tr>\n",
       "      <th>4</th>\n",
       "      <td>0.539176</td>\n",
       "      <td>0.038666</td>\n",
       "    </tr>\n",
       "  </tbody>\n",
       "</table>\n",
       "</div>"
      ],
      "text/plain": [
       "        溶解氧    高锰酸盐指数\n",
       "0 -0.754962 -0.324077\n",
       "1 -0.215168 -0.504679\n",
       "2  0.224525 -0.009094\n",
       "3  0.206430  0.799184\n",
       "4  0.539176  0.038666"
      ]
     },
     "execution_count": 828,
     "metadata": {},
     "output_type": "execute_result"
    }
   ],
   "source": [
    "space = pd.read_excel(\"空间模态.xlsx\", header=None, names=total_df.columns[:2])\n",
    "space.head()"
   ]
  },
  {
   "cell_type": "code",
   "execution_count": 832,
   "metadata": {},
   "outputs": [
    {
     "data": {
      "image/png": "[encoded data removed]",
      "text/plain": [
       "<Figure size 432x288 with 1 Axes>"
      ]
     },
     "metadata": {
      "needs_background": "light"
     },
     "output_type": "display_data"
    }
   ],
   "source": [
    "a = np.linspace(-10, 10, 1000)\n",
    "b = 1.0 / (1.0 + np.exp(-a))\n",
    "c = b * (1 - b)\n",
    "plt.plot(a, b)\n",
    "plt.xlabel(\"x\")\n",
    "plt.ylabel(\"y\")\n",
    "plt.savefig(\"logistics.png\", dpi=300)"
   ]
  },
  {
   "cell_type": "code",
   "execution_count": 847,
   "metadata": {},
   "outputs": [
    {
     "data": {
      "image/png": "[encoded data removed]",
      "text/plain": [
       "<Waffle size 360x216 with 1 Axes>"
      ]
     },
     "metadata": {
      "needs_background": "light"
     },
     "output_type": "display_data"
    }
   ],
   "source": [
    "from pywaffle import Waffle\n",
    "data = {'氟化物(18次)':18,'生化需氧量(12次)':12, '硒(8次)':8, '溶解氧(1次)':1}\n",
    "fig = plt.figure(\n",
    "    FigureClass=Waffle, \n",
    "    rows=4, \n",
    "    values=data,\n",
    "    figsize=(5, 3),\n",
    "    legend={'loc': 'upper left', 'bbox_to_anchor': (1.1, 1)}\n",
    ")\n",
    "plt.savefig(\"超标次数频数统计图.png\", dpi=300)"
   ]
  },
  {
   "cell_type": "code",
   "execution_count": 836,
   "metadata": {},
   "outputs": [
    {
     "data": {
      "image/png": "[encoded data removed]",
      "text/plain": [
       "<Waffle size 432x288 with 1 Axes>"
      ]
     },
     "metadata": {
      "needs_background": "light"
     },
     "output_type": "display_data"
    }
   ],
   "source": [
    "data = {'Democratic': 48, 'Republican': 46, 'Libertarian': 3}\n",
    "fig = plt.figure(\n",
    "    FigureClass=Waffle, \n",
    "    rows=5, \n",
    "    values=data, \n",
    "    legend={'loc': 'upper left', 'bbox_to_anchor': (1.1, 1)}\n",
    ")"
   ]
  },
  {
   "cell_type": "code",
   "execution_count": 840,
   "metadata": {},
   "outputs": [
    {
     "data": {
      "image/png": "[encoded data removed]",
      "text/plain": [
       "<Waffle size 432x288 with 1 Axes>"
      ]
     },
     "metadata": {},
     "output_type": "display_data"
    }
   ],
   "source": [
    "data = {'Democratic': 48, 'Republican': 46, 'Libertarian': 3}\n",
    "fig = plt.figure(\n",
    "    FigureClass=Waffle, \n",
    "    rows=5, \n",
    "    values=data, \n",
    "    colors=[\"#232066\", \"#983D3D\", \"#DCB732\"],\n",
    "    title={'label': 'Vote Percentage in 2016 US Presidential Election', 'loc': 'left'},\n",
    "    labels=[f\"{k} ({v}%)\" for k, v in data.items()],\n",
    "    legend={'loc': 'lower left', 'bbox_to_anchor': (0, -0.4), 'ncol': len(data), 'framealpha': 0},\n",
    "    starting_location='NW',\n",
    "    block_arranging_style='snake'\n",
    ")\n",
    "fig.set_facecolor('#EEEEEE')\n",
    "plt.show()"
   ]
  },
  {
   "cell_type": "code",
   "execution_count": 849,
   "metadata": {},
   "outputs": [
    {
     "data": {
      "image/png": "[encoded data removed]",
      "text/plain": [
       "<Waffle size 432x288 with 1 Axes>"
      ]
     },
     "metadata": {
      "needs_background": "light"
     },
     "output_type": "display_data"
    }
   ],
   "source": [
    "data = {'Democratic': 48, 'Republican': 46, 'Libertarian': 3}\n",
    "fig = plt.figure(\n",
    "    FigureClass=Waffle, \n",
    "    rows=5, \n",
    "    values=data, \n",
    "    colors=[\"#232066\", \"#983D3D\", \"#DCB732\"],\n",
    "    legend={'loc': 'upper left', 'bbox_to_anchor': (1, 1)},\n",
    "    icons='couch', \n",
    "    font_size=12, \n",
    "    icon_legend=True\n",
    ")\n",
    "plt.show()"
   ]
  },
  {
   "cell_type": "code",
   "execution_count": 846,
   "metadata": {},
   "outputs": [
    {
     "data": {
      "image/png": "[encoded data removed]",
      "text/plain": [
       "<Waffle size 648x360 with 3 Axes>"
      ]
     },
     "metadata": {
      "needs_background": "light"
     },
     "output_type": "display_data"
    }
   ],
   "source": [
    "data = pd.DataFrame(\n",
    "    {\n",
    "        'labels': ['Hillary Clinton', 'Donald Trump', 'Others'],\n",
    "        'Virginia': [1981473, 1769443, 233715],\n",
    "        'Maryland': [1677928, 943169, 160349],\n",
    "        'West Virginia': [188794, 489371, 36258],\n",
    "    },\n",
    ").set_index('labels')\n",
    "\n",
    "# A glance of the data:\n",
    "#                  Maryland  Virginia  West Virginia\n",
    "# labels                                            \n",
    "# Hillary Clinton   1677928   1981473         188794\n",
    "# Donald Trump       943169   1769443         489371\n",
    "# Others             160349    233715          36258\n",
    "\n",
    "\n",
    "fig = plt.figure(\n",
    "    FigureClass=Waffle,\n",
    "    plots={\n",
    "        '311': {\n",
    "            'values': data['Virginia'] / 30000,\n",
    "            'labels': [f\"{k} ({v})\" for k, v in data['Virginia'].items()],\n",
    "            'legend': {'loc': 'upper left', 'bbox_to_anchor': (1.05, 1), 'fontsize': 8},\n",
    "            'title': {'label': '2016 Virginia Presidential Election Results', 'loc': 'left'}\n",
    "        },\n",
    "        '312': {\n",
    "            'values': data['Maryland'] / 30000,\n",
    "            'labels': [f\"{k} ({v})\" for k, v in data['Maryland'].items()],\n",
    "            'legend': {'loc': 'upper left', 'bbox_to_anchor': (1.2, 1), 'fontsize': 8},\n",
    "            'title': {'label': '2016 Maryland Presidential Election Results', 'loc': 'left'}\n",
    "        },\n",
    "        '313': {\n",
    "            'values': data['West Virginia'] / 30000,\n",
    "            'labels': [f\"{k} ({v})\" for k, v in data['West Virginia'].items()],\n",
    "            'legend': {'loc': 'upper left', 'bbox_to_anchor': (1.3, 1), 'fontsize': 8},\n",
    "            'title': {'label': '2016 West Virginia Presidential Election Results', 'loc': 'left'}\n",
    "        },\n",
    "    },\n",
    "    rows=5,  # outside parameter applied to all subplots\n",
    "    colors=[\"#2196f3\", \"#ff5252\", \"#999999\"],  # outside parameter applied to all subplots\n",
    "    figsize=(9, 5)\n",
    ")\n",
    "plt.show()"
   ]
  }
 ],
 "metadata": {
  "kernelspec": {
   "display_name": "Python 3",
   "language": "python",
   "name": "python3"
  },
  "language_info": {
   "codemirror_mode": {
    "name": "ipython",
    "version": 3
   },
   "file_extension": ".py",
   "mimetype": "text/x-python",
   "name": "python",
   "nbconvert_exporter": "python",
   "pygments_lexer": "ipython3",
   "version": "3.6.7"
  }
 },
 "nbformat": 4,
 "nbformat_minor": 4
}
